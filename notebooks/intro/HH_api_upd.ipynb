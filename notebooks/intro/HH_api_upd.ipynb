{
  "cells": [
    {
      "cell_type": "code",
      "execution_count": null,
      "metadata": {
        "pycharm": {
          "name": "#%%\n"
        },
        "id": "obdoEmmGrLp5"
      },
      "outputs": [],
      "source": [
        "# ....Задание....\n",
        "# Скачайте вакансии СБЕРа с HH.ru\n",
        "# Создайте DataFrame только добавьте поле skills\n",
        "# Переведите даты публикаций в datetime\n",
        "# Переведите даты в дни недели, и определите день недели, в который больше всего публикуют вакансий\n",
        "# Определите по полю skills какие навыки больше всего востребованы для этих вакансий, и\n",
        "# Постройте график наиболее востребованных навыков"
      ]
    },
    {
      "cell_type": "code",
      "execution_count": null,
      "outputs": [],
      "source": [
        "import requests \n",
        "from tqdm.auto import tqdm\n",
        "from collections import defaultdict\n",
        "import pandas as pd"
      ],
      "metadata": {
        "pycharm": {
          "name": "#%%\n"
        },
        "id": "M3-MfmJSrLp7"
      }
    },
    {
      "cell_type": "code",
      "source": [],
      "metadata": {
        "id": "VA_NW7pQCxDA"
      },
      "execution_count": null,
      "outputs": []
    },
    {
      "cell_type": "code",
      "source": [
        "# Создание датафрейма из списка\n",
        "pd.DataFrame([\n",
        "    [1,2],\n",
        "    [2,1]\n",
        "    ],\n",
        "    columns=['col1','col2']\n",
        "    )"
      ],
      "metadata": {
        "id": "sJOpP_IFr9cf",
        "outputId": "55f61e3c-0b30-4583-f807-224cde4e48ef",
        "colab": {
          "base_uri": "https://localhost:8080/",
          "height": 112
        }
      },
      "execution_count": null,
      "outputs": [
        {
          "output_type": "execute_result",
          "data": {
            "text/plain": [
              "   col1  col2\n",
              "0     1     2\n",
              "1     2     1"
            ],
            "text/html": [
              "\n",
              "  <div id=\"df-9bf2f51e-5b12-45e2-ab3a-4b57476e0fb4\">\n",
              "    <div class=\"colab-df-container\">\n",
              "      <div>\n",
              "<style scoped>\n",
              "    .dataframe tbody tr th:only-of-type {\n",
              "        vertical-align: middle;\n",
              "    }\n",
              "\n",
              "    .dataframe tbody tr th {\n",
              "        vertical-align: top;\n",
              "    }\n",
              "\n",
              "    .dataframe thead th {\n",
              "        text-align: right;\n",
              "    }\n",
              "</style>\n",
              "<table border=\"1\" class=\"dataframe\">\n",
              "  <thead>\n",
              "    <tr style=\"text-align: right;\">\n",
              "      <th></th>\n",
              "      <th>col1</th>\n",
              "      <th>col2</th>\n",
              "    </tr>\n",
              "  </thead>\n",
              "  <tbody>\n",
              "    <tr>\n",
              "      <th>0</th>\n",
              "      <td>1</td>\n",
              "      <td>2</td>\n",
              "    </tr>\n",
              "    <tr>\n",
              "      <th>1</th>\n",
              "      <td>2</td>\n",
              "      <td>1</td>\n",
              "    </tr>\n",
              "  </tbody>\n",
              "</table>\n",
              "</div>\n",
              "      <button class=\"colab-df-convert\" onclick=\"convertToInteractive('df-9bf2f51e-5b12-45e2-ab3a-4b57476e0fb4')\"\n",
              "              title=\"Convert this dataframe to an interactive table.\"\n",
              "              style=\"display:none;\">\n",
              "        \n",
              "  <svg xmlns=\"http://www.w3.org/2000/svg\" height=\"24px\"viewBox=\"0 0 24 24\"\n",
              "       width=\"24px\">\n",
              "    <path d=\"M0 0h24v24H0V0z\" fill=\"none\"/>\n",
              "    <path d=\"M18.56 5.44l.94 2.06.94-2.06 2.06-.94-2.06-.94-.94-2.06-.94 2.06-2.06.94zm-11 1L8.5 8.5l.94-2.06 2.06-.94-2.06-.94L8.5 2.5l-.94 2.06-2.06.94zm10 10l.94 2.06.94-2.06 2.06-.94-2.06-.94-.94-2.06-.94 2.06-2.06.94z\"/><path d=\"M17.41 7.96l-1.37-1.37c-.4-.4-.92-.59-1.43-.59-.52 0-1.04.2-1.43.59L10.3 9.45l-7.72 7.72c-.78.78-.78 2.05 0 2.83L4 21.41c.39.39.9.59 1.41.59.51 0 1.02-.2 1.41-.59l7.78-7.78 2.81-2.81c.8-.78.8-2.07 0-2.86zM5.41 20L4 18.59l7.72-7.72 1.47 1.35L5.41 20z\"/>\n",
              "  </svg>\n",
              "      </button>\n",
              "      \n",
              "  <style>\n",
              "    .colab-df-container {\n",
              "      display:flex;\n",
              "      flex-wrap:wrap;\n",
              "      gap: 12px;\n",
              "    }\n",
              "\n",
              "    .colab-df-convert {\n",
              "      background-color: #E8F0FE;\n",
              "      border: none;\n",
              "      border-radius: 50%;\n",
              "      cursor: pointer;\n",
              "      display: none;\n",
              "      fill: #1967D2;\n",
              "      height: 32px;\n",
              "      padding: 0 0 0 0;\n",
              "      width: 32px;\n",
              "    }\n",
              "\n",
              "    .colab-df-convert:hover {\n",
              "      background-color: #E2EBFA;\n",
              "      box-shadow: 0px 1px 2px rgba(60, 64, 67, 0.3), 0px 1px 3px 1px rgba(60, 64, 67, 0.15);\n",
              "      fill: #174EA6;\n",
              "    }\n",
              "\n",
              "    [theme=dark] .colab-df-convert {\n",
              "      background-color: #3B4455;\n",
              "      fill: #D2E3FC;\n",
              "    }\n",
              "\n",
              "    [theme=dark] .colab-df-convert:hover {\n",
              "      background-color: #434B5C;\n",
              "      box-shadow: 0px 1px 3px 1px rgba(0, 0, 0, 0.15);\n",
              "      filter: drop-shadow(0px 1px 2px rgba(0, 0, 0, 0.3));\n",
              "      fill: #FFFFFF;\n",
              "    }\n",
              "  </style>\n",
              "\n",
              "      <script>\n",
              "        const buttonEl =\n",
              "          document.querySelector('#df-9bf2f51e-5b12-45e2-ab3a-4b57476e0fb4 button.colab-df-convert');\n",
              "        buttonEl.style.display =\n",
              "          google.colab.kernel.accessAllowed ? 'block' : 'none';\n",
              "\n",
              "        async function convertToInteractive(key) {\n",
              "          const element = document.querySelector('#df-9bf2f51e-5b12-45e2-ab3a-4b57476e0fb4');\n",
              "          const dataTable =\n",
              "            await google.colab.kernel.invokeFunction('convertToInteractive',\n",
              "                                                     [key], {});\n",
              "          if (!dataTable) return;\n",
              "\n",
              "          const docLinkHtml = 'Like what you see? Visit the ' +\n",
              "            '<a target=\"_blank\" href=https://colab.research.google.com/notebooks/data_table.ipynb>data table notebook</a>'\n",
              "            + ' to learn more about interactive tables.';\n",
              "          element.innerHTML = '';\n",
              "          dataTable['output_type'] = 'display_data';\n",
              "          await google.colab.output.renderOutput(dataTable, element);\n",
              "          const docLink = document.createElement('div');\n",
              "          docLink.innerHTML = docLinkHtml;\n",
              "          element.appendChild(docLink);\n",
              "        }\n",
              "      </script>\n",
              "    </div>\n",
              "  </div>\n",
              "  "
            ]
          },
          "metadata": {},
          "execution_count": 4
        }
      ]
    },
    {
      "cell_type": "code",
      "source": [
        "# Создание датафрейма из словаря\n",
        "pd.DataFrame({'col1':[1,2], 'col2':[2,1]})"
      ],
      "metadata": {
        "id": "g4OyknBasV2F",
        "outputId": "ac3b5857-063f-4af0-c05c-bf0da6cba35c",
        "colab": {
          "base_uri": "https://localhost:8080/",
          "height": 112
        }
      },
      "execution_count": null,
      "outputs": [
        {
          "output_type": "execute_result",
          "data": {
            "text/plain": [
              "   col1  col2\n",
              "0     1     2\n",
              "1     2     1"
            ],
            "text/html": [
              "\n",
              "  <div id=\"df-d4f9ecbf-68dd-464c-987e-620868fabe80\">\n",
              "    <div class=\"colab-df-container\">\n",
              "      <div>\n",
              "<style scoped>\n",
              "    .dataframe tbody tr th:only-of-type {\n",
              "        vertical-align: middle;\n",
              "    }\n",
              "\n",
              "    .dataframe tbody tr th {\n",
              "        vertical-align: top;\n",
              "    }\n",
              "\n",
              "    .dataframe thead th {\n",
              "        text-align: right;\n",
              "    }\n",
              "</style>\n",
              "<table border=\"1\" class=\"dataframe\">\n",
              "  <thead>\n",
              "    <tr style=\"text-align: right;\">\n",
              "      <th></th>\n",
              "      <th>col1</th>\n",
              "      <th>col2</th>\n",
              "    </tr>\n",
              "  </thead>\n",
              "  <tbody>\n",
              "    <tr>\n",
              "      <th>0</th>\n",
              "      <td>1</td>\n",
              "      <td>2</td>\n",
              "    </tr>\n",
              "    <tr>\n",
              "      <th>1</th>\n",
              "      <td>2</td>\n",
              "      <td>1</td>\n",
              "    </tr>\n",
              "  </tbody>\n",
              "</table>\n",
              "</div>\n",
              "      <button class=\"colab-df-convert\" onclick=\"convertToInteractive('df-d4f9ecbf-68dd-464c-987e-620868fabe80')\"\n",
              "              title=\"Convert this dataframe to an interactive table.\"\n",
              "              style=\"display:none;\">\n",
              "        \n",
              "  <svg xmlns=\"http://www.w3.org/2000/svg\" height=\"24px\"viewBox=\"0 0 24 24\"\n",
              "       width=\"24px\">\n",
              "    <path d=\"M0 0h24v24H0V0z\" fill=\"none\"/>\n",
              "    <path d=\"M18.56 5.44l.94 2.06.94-2.06 2.06-.94-2.06-.94-.94-2.06-.94 2.06-2.06.94zm-11 1L8.5 8.5l.94-2.06 2.06-.94-2.06-.94L8.5 2.5l-.94 2.06-2.06.94zm10 10l.94 2.06.94-2.06 2.06-.94-2.06-.94-.94-2.06-.94 2.06-2.06.94z\"/><path d=\"M17.41 7.96l-1.37-1.37c-.4-.4-.92-.59-1.43-.59-.52 0-1.04.2-1.43.59L10.3 9.45l-7.72 7.72c-.78.78-.78 2.05 0 2.83L4 21.41c.39.39.9.59 1.41.59.51 0 1.02-.2 1.41-.59l7.78-7.78 2.81-2.81c.8-.78.8-2.07 0-2.86zM5.41 20L4 18.59l7.72-7.72 1.47 1.35L5.41 20z\"/>\n",
              "  </svg>\n",
              "      </button>\n",
              "      \n",
              "  <style>\n",
              "    .colab-df-container {\n",
              "      display:flex;\n",
              "      flex-wrap:wrap;\n",
              "      gap: 12px;\n",
              "    }\n",
              "\n",
              "    .colab-df-convert {\n",
              "      background-color: #E8F0FE;\n",
              "      border: none;\n",
              "      border-radius: 50%;\n",
              "      cursor: pointer;\n",
              "      display: none;\n",
              "      fill: #1967D2;\n",
              "      height: 32px;\n",
              "      padding: 0 0 0 0;\n",
              "      width: 32px;\n",
              "    }\n",
              "\n",
              "    .colab-df-convert:hover {\n",
              "      background-color: #E2EBFA;\n",
              "      box-shadow: 0px 1px 2px rgba(60, 64, 67, 0.3), 0px 1px 3px 1px rgba(60, 64, 67, 0.15);\n",
              "      fill: #174EA6;\n",
              "    }\n",
              "\n",
              "    [theme=dark] .colab-df-convert {\n",
              "      background-color: #3B4455;\n",
              "      fill: #D2E3FC;\n",
              "    }\n",
              "\n",
              "    [theme=dark] .colab-df-convert:hover {\n",
              "      background-color: #434B5C;\n",
              "      box-shadow: 0px 1px 3px 1px rgba(0, 0, 0, 0.15);\n",
              "      filter: drop-shadow(0px 1px 2px rgba(0, 0, 0, 0.3));\n",
              "      fill: #FFFFFF;\n",
              "    }\n",
              "  </style>\n",
              "\n",
              "      <script>\n",
              "        const buttonEl =\n",
              "          document.querySelector('#df-d4f9ecbf-68dd-464c-987e-620868fabe80 button.colab-df-convert');\n",
              "        buttonEl.style.display =\n",
              "          google.colab.kernel.accessAllowed ? 'block' : 'none';\n",
              "\n",
              "        async function convertToInteractive(key) {\n",
              "          const element = document.querySelector('#df-d4f9ecbf-68dd-464c-987e-620868fabe80');\n",
              "          const dataTable =\n",
              "            await google.colab.kernel.invokeFunction('convertToInteractive',\n",
              "                                                     [key], {});\n",
              "          if (!dataTable) return;\n",
              "\n",
              "          const docLinkHtml = 'Like what you see? Visit the ' +\n",
              "            '<a target=\"_blank\" href=https://colab.research.google.com/notebooks/data_table.ipynb>data table notebook</a>'\n",
              "            + ' to learn more about interactive tables.';\n",
              "          element.innerHTML = '';\n",
              "          dataTable['output_type'] = 'display_data';\n",
              "          await google.colab.output.renderOutput(dataTable, element);\n",
              "          const docLink = document.createElement('div');\n",
              "          docLink.innerHTML = docLinkHtml;\n",
              "          element.appendChild(docLink);\n",
              "        }\n",
              "      </script>\n",
              "    </div>\n",
              "  </div>\n",
              "  "
            ]
          },
          "metadata": {},
          "execution_count": 5
        }
      ]
    },
    {
      "cell_type": "code",
      "execution_count": null,
      "outputs": [],
      "source": [
        "# Отправка запроса в api hh.ru\n",
        "sber = '3529'\n",
        "page = 1\n",
        "num_per_page = 100\n",
        "moscow = 1\n",
        "url = f'https://api.hh.ru/vacancies?employer_id={sber}&page={page}&per_page={num_per_page}&area={moscow}'\n",
        "res = requests.get(url)"
      ],
      "metadata": {
        "pycharm": {
          "name": "#%%\n"
        },
        "id": "CEsciTmYrLp7"
      }
    },
    {
      "cell_type": "code",
      "source": [
        "# Отправка запроса с параметрами в словаре"
      ],
      "metadata": {
        "id": "Q-MqkJLxD41k"
      },
      "execution_count": null,
      "outputs": []
    },
    {
      "cell_type": "code",
      "source": [
        "url = f'https://api.hh.ru/vacancies'\n",
        "params = {\n",
        "    'employer_id': sber,\n",
        "    'page': page,\n",
        "    'per_page': num_per_page,\n",
        "    'area': moscow\n",
        "}\n",
        "res = requests.get(url, params=params)"
      ],
      "metadata": {
        "id": "jFc8uTTrwkiV"
      },
      "execution_count": null,
      "outputs": []
    },
    {
      "cell_type": "code",
      "source": [
        " r = res.json()"
      ],
      "metadata": {
        "id": "7AxK26LxttPC"
      },
      "execution_count": null,
      "outputs": []
    },
    {
      "cell_type": "code",
      "source": [
        "r.keys()"
      ],
      "metadata": {
        "id": "8WnImxE4ttRw",
        "outputId": "c0e9fa42-f249-4b7e-e2a2-7038b51a3b4c",
        "colab": {
          "base_uri": "https://localhost:8080/"
        }
      },
      "execution_count": null,
      "outputs": [
        {
          "output_type": "execute_result",
          "data": {
            "text/plain": [
              "dict_keys(['items', 'found', 'pages', 'per_page', 'page', 'clusters', 'arguments', 'alternate_url'])"
            ]
          },
          "metadata": {},
          "execution_count": 10
        }
      ]
    },
    {
      "cell_type": "code",
      "source": [
        "# r['item']"
      ],
      "metadata": {
        "id": "1zvFlXGnuFo_"
      },
      "execution_count": null,
      "outputs": []
    },
    {
      "cell_type": "code",
      "source": [
        "msv = r.get('items')"
      ],
      "metadata": {
        "id": "ZU3HeOi_tczG"
      },
      "execution_count": null,
      "outputs": []
    },
    {
      "cell_type": "code",
      "source": [
        "len(msv)"
      ],
      "metadata": {
        "id": "7hZY_0UyvHQn",
        "outputId": "657a73be-7c3a-42e8-e715-368e6ecc6acd",
        "colab": {
          "base_uri": "https://localhost:8080/"
        }
      },
      "execution_count": null,
      "outputs": [
        {
          "output_type": "execute_result",
          "data": {
            "text/plain": [
              "100"
            ]
          },
          "metadata": {},
          "execution_count": 24
        }
      ]
    },
    {
      "cell_type": "code",
      "source": [
        "msv[0].get('employer')"
      ],
      "metadata": {
        "id": "8k-surA1veAJ",
        "outputId": "5bb4a43c-6752-412e-ea8d-968d8f3917b9",
        "colab": {
          "base_uri": "https://localhost:8080/"
        }
      },
      "execution_count": null,
      "outputs": [
        {
          "output_type": "execute_result",
          "data": {
            "text/plain": [
              "{'id': '3529',\n",
              " 'name': 'СБЕР',\n",
              " 'url': 'https://api.hh.ru/employers/3529',\n",
              " 'alternate_url': 'https://hh.ru/employer/3529',\n",
              " 'logo_urls': {'240': 'https://hhcdn.ru/employer-logo/5756157.png',\n",
              "  '90': 'https://hhcdn.ru/employer-logo/5756156.png',\n",
              "  'original': 'https://hhcdn.ru/employer-logo-original/1033849.png'},\n",
              " 'vacancies_url': 'https://api.hh.ru/vacancies?employer_id=3529',\n",
              " 'trusted': True}"
            ]
          },
          "metadata": {},
          "execution_count": 27
        }
      ]
    },
    {
      "cell_type": "code",
      "source": [
        "# Создание датафрейма из json\n",
        "pd.json_normalize(msv[:3])"
      ],
      "metadata": {
        "id": "Obb1W5zcuTF1",
        "outputId": "f0f4efd1-f3d8-4800-d118-2b1c126d43c7",
        "colab": {
          "base_uri": "https://localhost:8080/",
          "height": 376
        }
      },
      "execution_count": null,
      "outputs": [
        {
          "output_type": "execute_result",
          "data": {
            "text/plain": [
              "         id  premium                                               name  \\\n",
              "0  72075640    False  Исполнительный директор - Marketing Team Lead ...   \n",
              "1  73392819    False                      Frontend developer (СБОЛ.про)   \n",
              "2  71833531    False                                    Аналитик данных   \n",
              "\n",
              "   has_test  response_letter_required salary  address response_url  \\\n",
              "0     False                     False   None      NaN         None   \n",
              "1     False                     False   None      NaN         None   \n",
              "2     False                     False   None      NaN         None   \n",
              "\n",
              "  sort_point_distance              published_at  ... address.lng  \\\n",
              "0                None  2022-11-28T15:52:29+0300  ...         NaN   \n",
              "1                None  2022-12-06T13:48:41+0300  ...   37.532071   \n",
              "2                None  2022-11-28T17:00:15+0300  ...   37.531127   \n",
              "\n",
              "                          address.raw address.metro.station_name  \\\n",
              "0                                 NaN                        NaN   \n",
              "1    Москва, Кутузовский проспект, 32                Кутузовская   \n",
              "2  Москва, Кутузовский проспект, 32к1                Кутузовская   \n",
              "\n",
              "  address.metro.line_name address.metro.station_id address.metro.line_id  \\\n",
              "0                     NaN                      NaN                   NaN   \n",
              "1                     МЦК                   95.536                    95   \n",
              "2               Филевская                     4.73                     4   \n",
              "\n",
              "  address.metro.lat address.metro.lng  \\\n",
              "0               NaN               NaN   \n",
              "1         55.740833         37.533333   \n",
              "2         55.740544         37.534100   \n",
              "\n",
              "                              address.metro_stations address.id  \n",
              "0                                                NaN        NaN  \n",
              "1  [{'station_name': 'Кутузовская', 'line_name': ...     823806  \n",
              "2  [{'station_name': 'Кутузовская', 'line_name': ...     731097  \n",
              "\n",
              "[3 rows x 58 columns]"
            ],
            "text/html": [
              "\n",
              "  <div id=\"df-129e3f3e-a0db-40ef-95bc-1947f62dc7f1\">\n",
              "    <div class=\"colab-df-container\">\n",
              "      <div>\n",
              "<style scoped>\n",
              "    .dataframe tbody tr th:only-of-type {\n",
              "        vertical-align: middle;\n",
              "    }\n",
              "\n",
              "    .dataframe tbody tr th {\n",
              "        vertical-align: top;\n",
              "    }\n",
              "\n",
              "    .dataframe thead th {\n",
              "        text-align: right;\n",
              "    }\n",
              "</style>\n",
              "<table border=\"1\" class=\"dataframe\">\n",
              "  <thead>\n",
              "    <tr style=\"text-align: right;\">\n",
              "      <th></th>\n",
              "      <th>id</th>\n",
              "      <th>premium</th>\n",
              "      <th>name</th>\n",
              "      <th>has_test</th>\n",
              "      <th>response_letter_required</th>\n",
              "      <th>salary</th>\n",
              "      <th>address</th>\n",
              "      <th>response_url</th>\n",
              "      <th>sort_point_distance</th>\n",
              "      <th>published_at</th>\n",
              "      <th>...</th>\n",
              "      <th>address.lng</th>\n",
              "      <th>address.raw</th>\n",
              "      <th>address.metro.station_name</th>\n",
              "      <th>address.metro.line_name</th>\n",
              "      <th>address.metro.station_id</th>\n",
              "      <th>address.metro.line_id</th>\n",
              "      <th>address.metro.lat</th>\n",
              "      <th>address.metro.lng</th>\n",
              "      <th>address.metro_stations</th>\n",
              "      <th>address.id</th>\n",
              "    </tr>\n",
              "  </thead>\n",
              "  <tbody>\n",
              "    <tr>\n",
              "      <th>0</th>\n",
              "      <td>72075640</td>\n",
              "      <td>False</td>\n",
              "      <td>Исполнительный директор - Marketing Team Lead ...</td>\n",
              "      <td>False</td>\n",
              "      <td>False</td>\n",
              "      <td>None</td>\n",
              "      <td>NaN</td>\n",
              "      <td>None</td>\n",
              "      <td>None</td>\n",
              "      <td>2022-11-28T15:52:29+0300</td>\n",
              "      <td>...</td>\n",
              "      <td>NaN</td>\n",
              "      <td>NaN</td>\n",
              "      <td>NaN</td>\n",
              "      <td>NaN</td>\n",
              "      <td>NaN</td>\n",
              "      <td>NaN</td>\n",
              "      <td>NaN</td>\n",
              "      <td>NaN</td>\n",
              "      <td>NaN</td>\n",
              "      <td>NaN</td>\n",
              "    </tr>\n",
              "    <tr>\n",
              "      <th>1</th>\n",
              "      <td>73392819</td>\n",
              "      <td>False</td>\n",
              "      <td>Frontend developer (СБОЛ.про)</td>\n",
              "      <td>False</td>\n",
              "      <td>False</td>\n",
              "      <td>None</td>\n",
              "      <td>NaN</td>\n",
              "      <td>None</td>\n",
              "      <td>None</td>\n",
              "      <td>2022-12-06T13:48:41+0300</td>\n",
              "      <td>...</td>\n",
              "      <td>37.532071</td>\n",
              "      <td>Москва, Кутузовский проспект, 32</td>\n",
              "      <td>Кутузовская</td>\n",
              "      <td>МЦК</td>\n",
              "      <td>95.536</td>\n",
              "      <td>95</td>\n",
              "      <td>55.740833</td>\n",
              "      <td>37.533333</td>\n",
              "      <td>[{'station_name': 'Кутузовская', 'line_name': ...</td>\n",
              "      <td>823806</td>\n",
              "    </tr>\n",
              "    <tr>\n",
              "      <th>2</th>\n",
              "      <td>71833531</td>\n",
              "      <td>False</td>\n",
              "      <td>Аналитик данных</td>\n",
              "      <td>False</td>\n",
              "      <td>False</td>\n",
              "      <td>None</td>\n",
              "      <td>NaN</td>\n",
              "      <td>None</td>\n",
              "      <td>None</td>\n",
              "      <td>2022-11-28T17:00:15+0300</td>\n",
              "      <td>...</td>\n",
              "      <td>37.531127</td>\n",
              "      <td>Москва, Кутузовский проспект, 32к1</td>\n",
              "      <td>Кутузовская</td>\n",
              "      <td>Филевская</td>\n",
              "      <td>4.73</td>\n",
              "      <td>4</td>\n",
              "      <td>55.740544</td>\n",
              "      <td>37.534100</td>\n",
              "      <td>[{'station_name': 'Кутузовская', 'line_name': ...</td>\n",
              "      <td>731097</td>\n",
              "    </tr>\n",
              "  </tbody>\n",
              "</table>\n",
              "<p>3 rows × 58 columns</p>\n",
              "</div>\n",
              "      <button class=\"colab-df-convert\" onclick=\"convertToInteractive('df-129e3f3e-a0db-40ef-95bc-1947f62dc7f1')\"\n",
              "              title=\"Convert this dataframe to an interactive table.\"\n",
              "              style=\"display:none;\">\n",
              "        \n",
              "  <svg xmlns=\"http://www.w3.org/2000/svg\" height=\"24px\"viewBox=\"0 0 24 24\"\n",
              "       width=\"24px\">\n",
              "    <path d=\"M0 0h24v24H0V0z\" fill=\"none\"/>\n",
              "    <path d=\"M18.56 5.44l.94 2.06.94-2.06 2.06-.94-2.06-.94-.94-2.06-.94 2.06-2.06.94zm-11 1L8.5 8.5l.94-2.06 2.06-.94-2.06-.94L8.5 2.5l-.94 2.06-2.06.94zm10 10l.94 2.06.94-2.06 2.06-.94-2.06-.94-.94-2.06-.94 2.06-2.06.94z\"/><path d=\"M17.41 7.96l-1.37-1.37c-.4-.4-.92-.59-1.43-.59-.52 0-1.04.2-1.43.59L10.3 9.45l-7.72 7.72c-.78.78-.78 2.05 0 2.83L4 21.41c.39.39.9.59 1.41.59.51 0 1.02-.2 1.41-.59l7.78-7.78 2.81-2.81c.8-.78.8-2.07 0-2.86zM5.41 20L4 18.59l7.72-7.72 1.47 1.35L5.41 20z\"/>\n",
              "  </svg>\n",
              "      </button>\n",
              "      \n",
              "  <style>\n",
              "    .colab-df-container {\n",
              "      display:flex;\n",
              "      flex-wrap:wrap;\n",
              "      gap: 12px;\n",
              "    }\n",
              "\n",
              "    .colab-df-convert {\n",
              "      background-color: #E8F0FE;\n",
              "      border: none;\n",
              "      border-radius: 50%;\n",
              "      cursor: pointer;\n",
              "      display: none;\n",
              "      fill: #1967D2;\n",
              "      height: 32px;\n",
              "      padding: 0 0 0 0;\n",
              "      width: 32px;\n",
              "    }\n",
              "\n",
              "    .colab-df-convert:hover {\n",
              "      background-color: #E2EBFA;\n",
              "      box-shadow: 0px 1px 2px rgba(60, 64, 67, 0.3), 0px 1px 3px 1px rgba(60, 64, 67, 0.15);\n",
              "      fill: #174EA6;\n",
              "    }\n",
              "\n",
              "    [theme=dark] .colab-df-convert {\n",
              "      background-color: #3B4455;\n",
              "      fill: #D2E3FC;\n",
              "    }\n",
              "\n",
              "    [theme=dark] .colab-df-convert:hover {\n",
              "      background-color: #434B5C;\n",
              "      box-shadow: 0px 1px 3px 1px rgba(0, 0, 0, 0.15);\n",
              "      filter: drop-shadow(0px 1px 2px rgba(0, 0, 0, 0.3));\n",
              "      fill: #FFFFFF;\n",
              "    }\n",
              "  </style>\n",
              "\n",
              "      <script>\n",
              "        const buttonEl =\n",
              "          document.querySelector('#df-129e3f3e-a0db-40ef-95bc-1947f62dc7f1 button.colab-df-convert');\n",
              "        buttonEl.style.display =\n",
              "          google.colab.kernel.accessAllowed ? 'block' : 'none';\n",
              "\n",
              "        async function convertToInteractive(key) {\n",
              "          const element = document.querySelector('#df-129e3f3e-a0db-40ef-95bc-1947f62dc7f1');\n",
              "          const dataTable =\n",
              "            await google.colab.kernel.invokeFunction('convertToInteractive',\n",
              "                                                     [key], {});\n",
              "          if (!dataTable) return;\n",
              "\n",
              "          const docLinkHtml = 'Like what you see? Visit the ' +\n",
              "            '<a target=\"_blank\" href=https://colab.research.google.com/notebooks/data_table.ipynb>data table notebook</a>'\n",
              "            + ' to learn more about interactive tables.';\n",
              "          element.innerHTML = '';\n",
              "          dataTable['output_type'] = 'display_data';\n",
              "          await google.colab.output.renderOutput(dataTable, element);\n",
              "          const docLink = document.createElement('div');\n",
              "          docLink.innerHTML = docLinkHtml;\n",
              "          element.appendChild(docLink);\n",
              "        }\n",
              "      </script>\n",
              "    </div>\n",
              "  </div>\n",
              "  "
            ]
          },
          "metadata": {},
          "execution_count": 23
        }
      ]
    },
    {
      "cell_type": "code",
      "source": [
        "vacancies = res.json()\n",
        "num_pages = vacancies.get('pages')\n",
        "vacancies = res.json()\n",
        "num_pages = vacancies.get('pages')\n",
        "vacancy_ids = [el.get('id') for el in vacancies.get('items')]\n"
      ],
      "metadata": {
        "id": "3rvq7EIMtWD4"
      },
      "execution_count": null,
      "outputs": []
    },
    {
      "cell_type": "code",
      "source": [
        "all_vacancy_ids= []\n",
        "for i in tqdm(range(num_pages)):\n",
        "    url = f'https://api.hh.ru/vacancies?employer_id={sber}&page={i}&per_page={num_per_page}&area={moscow}'\n",
        "    res = requests.get(url)\n",
        "    vacancies = res.json()\n",
        "    vacancy_ids = [el.get('id') for el in vacancies.get('items')]\n",
        "    all_vacancy_ids.extend(vacancy_ids)"
      ],
      "metadata": {
        "id": "_xXt4dvVtI1J",
        "outputId": "f197917f-544b-4386-be30-85f5bfeb892d",
        "colab": {
          "base_uri": "https://localhost:8080/",
          "height": 49,
          "referenced_widgets": [
            "030a7237c07843d5b45c48168a465563",
            "8ac61d92b6c44eb286ee3cb28f3a7c30",
            "70f0123624cd4c7da4cbd16e2c9a85ad",
            "9f9d51bbe5c94d6ab425774e15d60793",
            "ea81c7660aa54e08920f58c4d6bb8adc",
            "3004228971284326b39a4ce688c895f8",
            "f0c4ba316a894794baa8c2ead59076ce",
            "c44dd51e594d42f1bda839fa34f9b582",
            "b08b51b5dcbc4084a68a9cb10c55b11f",
            "c6e557b008d24b7ebc7bd6f93a75e237",
            "3db61a32c75f4119a06dbf02f20094c9"
          ]
        }
      },
      "execution_count": null,
      "outputs": [
        {
          "output_type": "display_data",
          "data": {
            "text/plain": [
              "  0%|          | 0/15 [00:00<?, ?it/s]"
            ],
            "application/vnd.jupyter.widget-view+json": {
              "version_major": 2,
              "version_minor": 0,
              "model_id": "030a7237c07843d5b45c48168a465563"
            }
          },
          "metadata": {}
        }
      ]
    },
    {
      "cell_type": "code",
      "execution_count": null,
      "outputs": [],
      "source": [
        "# Запрос по определенному id вакансии\n",
        "vac_id = 43326020\n",
        "url = f'https://api.hh.ru/vacancies/{vac_id}'\n",
        "res = requests.get(url)\n",
        "vacancy = res.json()\n"
      ],
      "metadata": {
        "pycharm": {
          "name": "#%%\n"
        },
        "id": "sodvuEjkrLp8"
      }
    },
    {
      "cell_type": "code",
      "execution_count": null,
      "outputs": [],
      "source": [
        "## Обычный словарь\n",
        "\n",
        "# tabdict = {\n",
        "#     'id': [], \n",
        "#     'name': [],\n",
        "# }"
      ],
      "metadata": {
        "pycharm": {
          "name": "#%%\n"
        },
        "id": "1nnvonEcrLp8"
      }
    },
    {
      "cell_type": "code",
      "source": [
        "\n",
        "# tabdict['description'] = []"
      ],
      "metadata": {
        "id": "jUHmS2cpzqAj"
      },
      "execution_count": null,
      "outputs": []
    },
    {
      "cell_type": "code",
      "execution_count": null,
      "outputs": [
        {
          "output_type": "display_data",
          "data": {
            "text/plain": [
              "  0%|          | 0/300 [00:00<?, ?it/s]"
            ],
            "application/vnd.jupyter.widget-view+json": {
              "version_major": 2,
              "version_minor": 0,
              "model_id": "0db524921f6d44d08eb8b62ded878793"
            }
          },
          "metadata": {}
        }
      ],
      "source": [
        "# Создание словаря со списком по умолчанию\n",
        "tabdict = defaultdict(list)\n",
        "for vac_id in tqdm(all_vacancy_ids[:300]):\n",
        "    url = f'https://api.hh.ru/vacancies/{vac_id}'\n",
        "    res = requests.get(url)\n",
        "    vacancy = res.json()\n",
        "    tabdict['id'].append(vacancy.get('id'))\n",
        "    tabdict['name'].append(vacancy.get('name'))\n",
        "    tabdict['description'].append(vacancy.get('description'))\n",
        "    tabdict['skills'].append(vacancy.get('key_skills'))\n",
        "    tabdict['published_at'].append(vacancy.get('published_at'))\n"
      ],
      "metadata": {
        "pycharm": {
          "name": "#%%\n"
        },
        "id": "tJlJPciNrLp8",
        "outputId": "213af505-fa35-4d85-9127-39caf14caaca",
        "colab": {
          "base_uri": "https://localhost:8080/",
          "height": 49,
          "referenced_widgets": [
            "0db524921f6d44d08eb8b62ded878793",
            "3540c49ea74e4cbca77d53522bda237f",
            "801e0bad629e4c1fb64548cd15f450a6",
            "ffd7c0e1551c4b08b3a08f52e3e5d6a3",
            "3966aba248474da0b00f5ec2c0190782",
            "40d8100dc58449efa02981fcfce2f306",
            "fd3e190c468248e4bfdda6e45052be48",
            "0633211d47624c51bd027d7dc73adc11",
            "5dec3d3737a94e188222a05b62598326",
            "0207a22ef65d40ffaf598955237d6557",
            "fe8aa57b89c94fcca4cc4984d2b7e62b"
          ]
        }
      }
    },
    {
      "cell_type": "code",
      "source": [
        "df = pd.DataFrame(tabdict)"
      ],
      "metadata": {
        "id": "Qb1zrOCD01WI"
      },
      "execution_count": null,
      "outputs": []
    },
    {
      "cell_type": "code",
      "source": [
        "df"
      ],
      "metadata": {
        "id": "tV8v0Bor01TV",
        "outputId": "e3cfa82c-79ef-4fdb-f9ac-97b22774cc73",
        "colab": {
          "base_uri": "https://localhost:8080/",
          "height": 468
        }
      },
      "execution_count": null,
      "outputs": [
        {
          "output_type": "execute_result",
          "data": {
            "text/plain": [
              "           id                                               name  \\\n",
              "0    55889794                             Финансовый консультант   \n",
              "1    45790891  Менеджер по работе с ключевыми клиентами малог...   \n",
              "2    73524445                                   Старший охранник   \n",
              "3    73527561                       Тестировщик (СбербанкОнлайн)   \n",
              "4    73131557                                 Junior QA Engineer   \n",
              "..        ...                                                ...   \n",
              "295  73322458                           DevOps инженер (СберЧат)   \n",
              "296  67500653                        Старший клиентский менеджер   \n",
              "297  69630798                               Frontend-разработчик   \n",
              "298  72225014                               Senior С++ Developer   \n",
              "299  72531275                                    С++ разработчик   \n",
              "\n",
              "                                           description  \\\n",
              "0    <p>Сбер — лучший работодатель России. У нас бо...   \n",
              "1    <p>Сбер — лучший работодатель России. У нас бо...   \n",
              "2    <p>Сбер – это стабильность, забота о команде и...   \n",
              "3    <p>Наша команда разрабатывает и помогает вывод...   \n",
              "4    <p>Наша команда делает решение по управлению A...   \n",
              "..                                                 ...   \n",
              "295  <p>Приглашаем Middle / Senior DevOps инженера,...   \n",
              "296  <p><strong>Старший клиентский менеджер</strong...   \n",
              "297  <p>Наша команда разрабатывает внутренний порта...   \n",
              "298  <p><strong>SberDevices</strong> - департамент ...   \n",
              "299  <p>Мы находимся в поиске C++ разработчика в ко...   \n",
              "\n",
              "                                                skills  \\\n",
              "0                                                        \n",
              "1    Прямые продажи;Финансовый анализ;Клиентоориент...   \n",
              "2                                                        \n",
              "3                                                        \n",
              "4                                                        \n",
              "..                                                 ...   \n",
              "295  Linux;Python;Bash;PostgreSQL;SQL;Kubernetes;Do...   \n",
              "296  Деловая переписка;Деловое общение;Развитие про...   \n",
              "297                                                      \n",
              "298                                                      \n",
              "299                                                      \n",
              "\n",
              "                 published_at  \n",
              "0    2022-12-07T23:08:00+0300  \n",
              "1    2022-11-28T18:00:43+0300  \n",
              "2    2022-12-08T15:09:43+0300  \n",
              "3    2022-12-08T15:56:31+0300  \n",
              "4    2022-11-30T13:04:10+0300  \n",
              "..                        ...  \n",
              "295  2022-12-05T11:34:01+0300  \n",
              "296  2022-11-28T15:52:13+0300  \n",
              "297  2022-11-28T09:53:50+0300  \n",
              "298  2022-11-28T09:49:18+0300  \n",
              "299  2022-11-28T09:55:00+0300  \n",
              "\n",
              "[300 rows x 5 columns]"
            ],
            "text/html": [
              "\n",
              "  <div id=\"df-3964d5f0-4148-4fd8-8948-65901d7ff6a7\">\n",
              "    <div class=\"colab-df-container\">\n",
              "      <div>\n",
              "<style scoped>\n",
              "    .dataframe tbody tr th:only-of-type {\n",
              "        vertical-align: middle;\n",
              "    }\n",
              "\n",
              "    .dataframe tbody tr th {\n",
              "        vertical-align: top;\n",
              "    }\n",
              "\n",
              "    .dataframe thead th {\n",
              "        text-align: right;\n",
              "    }\n",
              "</style>\n",
              "<table border=\"1\" class=\"dataframe\">\n",
              "  <thead>\n",
              "    <tr style=\"text-align: right;\">\n",
              "      <th></th>\n",
              "      <th>id</th>\n",
              "      <th>name</th>\n",
              "      <th>description</th>\n",
              "      <th>skills</th>\n",
              "      <th>published_at</th>\n",
              "    </tr>\n",
              "  </thead>\n",
              "  <tbody>\n",
              "    <tr>\n",
              "      <th>0</th>\n",
              "      <td>55889794</td>\n",
              "      <td>Финансовый консультант</td>\n",
              "      <td>&lt;p&gt;Сбер — лучший работодатель России. У нас бо...</td>\n",
              "      <td></td>\n",
              "      <td>2022-12-07T23:08:00+0300</td>\n",
              "    </tr>\n",
              "    <tr>\n",
              "      <th>1</th>\n",
              "      <td>45790891</td>\n",
              "      <td>Менеджер по работе с ключевыми клиентами малог...</td>\n",
              "      <td>&lt;p&gt;Сбер — лучший работодатель России. У нас бо...</td>\n",
              "      <td>Прямые продажи;Финансовый анализ;Клиентоориент...</td>\n",
              "      <td>2022-11-28T18:00:43+0300</td>\n",
              "    </tr>\n",
              "    <tr>\n",
              "      <th>2</th>\n",
              "      <td>73524445</td>\n",
              "      <td>Старший охранник</td>\n",
              "      <td>&lt;p&gt;Сбер – это стабильность, забота о команде и...</td>\n",
              "      <td></td>\n",
              "      <td>2022-12-08T15:09:43+0300</td>\n",
              "    </tr>\n",
              "    <tr>\n",
              "      <th>3</th>\n",
              "      <td>73527561</td>\n",
              "      <td>Тестировщик (СбербанкОнлайн)</td>\n",
              "      <td>&lt;p&gt;Наша команда разрабатывает и помогает вывод...</td>\n",
              "      <td></td>\n",
              "      <td>2022-12-08T15:56:31+0300</td>\n",
              "    </tr>\n",
              "    <tr>\n",
              "      <th>4</th>\n",
              "      <td>73131557</td>\n",
              "      <td>Junior QA Engineer</td>\n",
              "      <td>&lt;p&gt;Наша команда делает решение по управлению A...</td>\n",
              "      <td></td>\n",
              "      <td>2022-11-30T13:04:10+0300</td>\n",
              "    </tr>\n",
              "    <tr>\n",
              "      <th>...</th>\n",
              "      <td>...</td>\n",
              "      <td>...</td>\n",
              "      <td>...</td>\n",
              "      <td>...</td>\n",
              "      <td>...</td>\n",
              "    </tr>\n",
              "    <tr>\n",
              "      <th>295</th>\n",
              "      <td>73322458</td>\n",
              "      <td>DevOps инженер (СберЧат)</td>\n",
              "      <td>&lt;p&gt;Приглашаем Middle / Senior DevOps инженера,...</td>\n",
              "      <td>Linux;Python;Bash;PostgreSQL;SQL;Kubernetes;Do...</td>\n",
              "      <td>2022-12-05T11:34:01+0300</td>\n",
              "    </tr>\n",
              "    <tr>\n",
              "      <th>296</th>\n",
              "      <td>67500653</td>\n",
              "      <td>Старший клиентский менеджер</td>\n",
              "      <td>&lt;p&gt;&lt;strong&gt;Старший клиентский менеджер&lt;/strong...</td>\n",
              "      <td>Деловая переписка;Деловое общение;Развитие про...</td>\n",
              "      <td>2022-11-28T15:52:13+0300</td>\n",
              "    </tr>\n",
              "    <tr>\n",
              "      <th>297</th>\n",
              "      <td>69630798</td>\n",
              "      <td>Frontend-разработчик</td>\n",
              "      <td>&lt;p&gt;Наша команда разрабатывает внутренний порта...</td>\n",
              "      <td></td>\n",
              "      <td>2022-11-28T09:53:50+0300</td>\n",
              "    </tr>\n",
              "    <tr>\n",
              "      <th>298</th>\n",
              "      <td>72225014</td>\n",
              "      <td>Senior С++ Developer</td>\n",
              "      <td>&lt;p&gt;&lt;strong&gt;SberDevices&lt;/strong&gt; - департамент ...</td>\n",
              "      <td></td>\n",
              "      <td>2022-11-28T09:49:18+0300</td>\n",
              "    </tr>\n",
              "    <tr>\n",
              "      <th>299</th>\n",
              "      <td>72531275</td>\n",
              "      <td>С++ разработчик</td>\n",
              "      <td>&lt;p&gt;Мы находимся в поиске C++ разработчика в ко...</td>\n",
              "      <td></td>\n",
              "      <td>2022-11-28T09:55:00+0300</td>\n",
              "    </tr>\n",
              "  </tbody>\n",
              "</table>\n",
              "<p>300 rows × 5 columns</p>\n",
              "</div>\n",
              "      <button class=\"colab-df-convert\" onclick=\"convertToInteractive('df-3964d5f0-4148-4fd8-8948-65901d7ff6a7')\"\n",
              "              title=\"Convert this dataframe to an interactive table.\"\n",
              "              style=\"display:none;\">\n",
              "        \n",
              "  <svg xmlns=\"http://www.w3.org/2000/svg\" height=\"24px\"viewBox=\"0 0 24 24\"\n",
              "       width=\"24px\">\n",
              "    <path d=\"M0 0h24v24H0V0z\" fill=\"none\"/>\n",
              "    <path d=\"M18.56 5.44l.94 2.06.94-2.06 2.06-.94-2.06-.94-.94-2.06-.94 2.06-2.06.94zm-11 1L8.5 8.5l.94-2.06 2.06-.94-2.06-.94L8.5 2.5l-.94 2.06-2.06.94zm10 10l.94 2.06.94-2.06 2.06-.94-2.06-.94-.94-2.06-.94 2.06-2.06.94z\"/><path d=\"M17.41 7.96l-1.37-1.37c-.4-.4-.92-.59-1.43-.59-.52 0-1.04.2-1.43.59L10.3 9.45l-7.72 7.72c-.78.78-.78 2.05 0 2.83L4 21.41c.39.39.9.59 1.41.59.51 0 1.02-.2 1.41-.59l7.78-7.78 2.81-2.81c.8-.78.8-2.07 0-2.86zM5.41 20L4 18.59l7.72-7.72 1.47 1.35L5.41 20z\"/>\n",
              "  </svg>\n",
              "      </button>\n",
              "      \n",
              "  <style>\n",
              "    .colab-df-container {\n",
              "      display:flex;\n",
              "      flex-wrap:wrap;\n",
              "      gap: 12px;\n",
              "    }\n",
              "\n",
              "    .colab-df-convert {\n",
              "      background-color: #E8F0FE;\n",
              "      border: none;\n",
              "      border-radius: 50%;\n",
              "      cursor: pointer;\n",
              "      display: none;\n",
              "      fill: #1967D2;\n",
              "      height: 32px;\n",
              "      padding: 0 0 0 0;\n",
              "      width: 32px;\n",
              "    }\n",
              "\n",
              "    .colab-df-convert:hover {\n",
              "      background-color: #E2EBFA;\n",
              "      box-shadow: 0px 1px 2px rgba(60, 64, 67, 0.3), 0px 1px 3px 1px rgba(60, 64, 67, 0.15);\n",
              "      fill: #174EA6;\n",
              "    }\n",
              "\n",
              "    [theme=dark] .colab-df-convert {\n",
              "      background-color: #3B4455;\n",
              "      fill: #D2E3FC;\n",
              "    }\n",
              "\n",
              "    [theme=dark] .colab-df-convert:hover {\n",
              "      background-color: #434B5C;\n",
              "      box-shadow: 0px 1px 3px 1px rgba(0, 0, 0, 0.15);\n",
              "      filter: drop-shadow(0px 1px 2px rgba(0, 0, 0, 0.3));\n",
              "      fill: #FFFFFF;\n",
              "    }\n",
              "  </style>\n",
              "\n",
              "      <script>\n",
              "        const buttonEl =\n",
              "          document.querySelector('#df-3964d5f0-4148-4fd8-8948-65901d7ff6a7 button.colab-df-convert');\n",
              "        buttonEl.style.display =\n",
              "          google.colab.kernel.accessAllowed ? 'block' : 'none';\n",
              "\n",
              "        async function convertToInteractive(key) {\n",
              "          const element = document.querySelector('#df-3964d5f0-4148-4fd8-8948-65901d7ff6a7');\n",
              "          const dataTable =\n",
              "            await google.colab.kernel.invokeFunction('convertToInteractive',\n",
              "                                                     [key], {});\n",
              "          if (!dataTable) return;\n",
              "\n",
              "          const docLinkHtml = 'Like what you see? Visit the ' +\n",
              "            '<a target=\"_blank\" href=https://colab.research.google.com/notebooks/data_table.ipynb>data table notebook</a>'\n",
              "            + ' to learn more about interactive tables.';\n",
              "          element.innerHTML = '';\n",
              "          dataTable['output_type'] = 'display_data';\n",
              "          await google.colab.output.renderOutput(dataTable, element);\n",
              "          const docLink = document.createElement('div');\n",
              "          docLink.innerHTML = docLinkHtml;\n",
              "          element.appendChild(docLink);\n",
              "        }\n",
              "      </script>\n",
              "    </div>\n",
              "  </div>\n",
              "  "
            ]
          },
          "metadata": {},
          "execution_count": 52
        }
      ]
    },
    {
      "cell_type": "code",
      "execution_count": null,
      "outputs": [],
      "source": [
        "# Перевод навыков из формата списка со словарями в строку с навыками, разделенными ;\n",
        "sk = tabdict.get('skills')\n",
        "tabdict['skills'] = [';'.join([y.get('name') for y in x]) for x in sk]"
      ],
      "metadata": {
        "pycharm": {
          "name": "#%%\n",
          "is_executing": true
        },
        "id": "Q4xnUhwKrLp8"
      }
    },
    {
      "cell_type": "code",
      "execution_count": null,
      "metadata": {
        "pycharm": {
          "name": "#%%\n"
        },
        "id": "r_De63UDrLp9"
      },
      "outputs": [],
      "source": [
        "df = pd.DataFrame(tabdict)"
      ]
    },
    {
      "cell_type": "code",
      "source": [
        "# Проверка типа данных в колонке\n",
        "df.published_at.dtype"
      ],
      "metadata": {
        "id": "O2cEBayR2FHZ",
        "outputId": "4e7eb5c6-17b1-4728-8024-dbf99f87ddf4",
        "colab": {
          "base_uri": "https://localhost:8080/"
        }
      },
      "execution_count": null,
      "outputs": [
        {
          "output_type": "execute_result",
          "data": {
            "text/plain": [
              "dtype('O')"
            ]
          },
          "metadata": {},
          "execution_count": 54
        }
      ]
    },
    {
      "cell_type": "code",
      "source": [
        "# Перевод даты из строки в формат datetime\n",
        "df.published_at = pd.to_datetime(df.published_at)"
      ],
      "metadata": {
        "id": "VshLgvTD2FKV"
      },
      "execution_count": null,
      "outputs": []
    },
    {
      "cell_type": "code",
      "source": [
        "# Использование с помощью dt атрибутов объекта datetime для создания новой колонки\n",
        "df['weekday'] = df.published_at.dt.weekday"
      ],
      "metadata": {
        "id": "9KNNKD2z2FNf"
      },
      "execution_count": null,
      "outputs": []
    },
    {
      "cell_type": "code",
      "source": [
        "import matplotlib.pyplot as plt\n",
        "\n",
        "df.groupby('weekday')['id'].count().plot(kind='barh')\n",
        "plt.title('Vacancy Day')\n",
        "plt.show()"
      ],
      "metadata": {
        "id": "FfeV1Cbi2FQU",
        "outputId": "6ca1e3c5-390f-437a-f968-39602d79d746",
        "colab": {
          "base_uri": "https://localhost:8080/",
          "height": 281
        }
      },
      "execution_count": null,
      "outputs": [
        {
          "output_type": "display_data",
          "data": {
            "text/plain": [
              "<Figure size 432x288 with 1 Axes>"
            ],
            "image/png": "[encoded data removed]"
          },
          "metadata": {
            "needs_background": "light"
          }
        }
      ]
    },
    {
      "cell_type": "code",
      "source": [
        "# Пример создания условия для фильтрации датафрейма\n",
        "term1 = df['name'].str.lower().str.contains(\"data\")"
      ],
      "metadata": {
        "id": "w5fnRyGn4u6W"
      },
      "execution_count": null,
      "outputs": []
    },
    {
      "cell_type": "code",
      "source": [
        "term2 = df['name'].str.lower().str.contains(\"scientist\")"
      ],
      "metadata": {
        "id": "or8Zibro41s2"
      },
      "execution_count": null,
      "outputs": []
    },
    {
      "cell_type": "code",
      "source": [
        "# Фильтрация строк датафрейма по нескольким условиям & и | или \n",
        "df[term1 | term2]"
      ],
      "metadata": {
        "id": "3vEV82i92FS8",
        "outputId": "c4718cbe-0fbc-4091-9e93-a46e0a8d798c",
        "colab": {
          "base_uri": "https://localhost:8080/",
          "height": 206
        }
      },
      "execution_count": null,
      "outputs": [
        {
          "output_type": "execute_result",
          "data": {
            "text/plain": [
              "           id                              name  \\\n",
              "21   73209857   Junior Data Scientist / Аудитор   \n",
              "27   72088729             Стажер Data scientist   \n",
              "62   72952363          Junior CV Data Scientist   \n",
              "78   71582181             Junior Data Scientist   \n",
              "105  72221358  Data scientist (Computer Vision)   \n",
              "\n",
              "                                           description  \\\n",
              "21   <p>В команду Управления внутреннего аудита по ...   \n",
              "27   <p>Блок &quot;Сеть продаж&quot; курирует все ф...   \n",
              "62   <p>Мы занимаемся разработкой CV-моделей для мо...   \n",
              "78   <p>Блок «Управление благосостоянием» объединяе...   \n",
              "105  <p>В проект департамента, который занимается к...   \n",
              "\n",
              "                                       skills              published_at  \\\n",
              "21                                            2022-12-01 23:04:16+03:00   \n",
              "27                                 Python;SQL 2022-11-28 16:59:14+03:00   \n",
              "62                                            2022-11-28 16:59:15+03:00   \n",
              "78                                 Python;SQL 2022-11-28 16:59:12+03:00   \n",
              "105  Python;Computer Vision;PyTorch;Git;Linux 2022-11-11 13:49:03+03:00   \n",
              "\n",
              "     weekday  \n",
              "21         3  \n",
              "27         0  \n",
              "62         0  \n",
              "78         0  \n",
              "105        4  "
            ],
            "text/html": [
              "\n",
              "  <div id=\"df-f9f53ca4-9d60-47da-bd19-c3f201699ed9\">\n",
              "    <div class=\"colab-df-container\">\n",
              "      <div>\n",
              "<style scoped>\n",
              "    .dataframe tbody tr th:only-of-type {\n",
              "        vertical-align: middle;\n",
              "    }\n",
              "\n",
              "    .dataframe tbody tr th {\n",
              "        vertical-align: top;\n",
              "    }\n",
              "\n",
              "    .dataframe thead th {\n",
              "        text-align: right;\n",
              "    }\n",
              "</style>\n",
              "<table border=\"1\" class=\"dataframe\">\n",
              "  <thead>\n",
              "    <tr style=\"text-align: right;\">\n",
              "      <th></th>\n",
              "      <th>id</th>\n",
              "      <th>name</th>\n",
              "      <th>description</th>\n",
              "      <th>skills</th>\n",
              "      <th>published_at</th>\n",
              "      <th>weekday</th>\n",
              "    </tr>\n",
              "  </thead>\n",
              "  <tbody>\n",
              "    <tr>\n",
              "      <th>21</th>\n",
              "      <td>73209857</td>\n",
              "      <td>Junior Data Scientist / Аудитор</td>\n",
              "      <td>&lt;p&gt;В команду Управления внутреннего аудита по ...</td>\n",
              "      <td></td>\n",
              "      <td>2022-12-01 23:04:16+03:00</td>\n",
              "      <td>3</td>\n",
              "    </tr>\n",
              "    <tr>\n",
              "      <th>27</th>\n",
              "      <td>72088729</td>\n",
              "      <td>Стажер Data scientist</td>\n",
              "      <td>&lt;p&gt;Блок &amp;quot;Сеть продаж&amp;quot; курирует все ф...</td>\n",
              "      <td>Python;SQL</td>\n",
              "      <td>2022-11-28 16:59:14+03:00</td>\n",
              "      <td>0</td>\n",
              "    </tr>\n",
              "    <tr>\n",
              "      <th>62</th>\n",
              "      <td>72952363</td>\n",
              "      <td>Junior CV Data Scientist</td>\n",
              "      <td>&lt;p&gt;Мы занимаемся разработкой CV-моделей для мо...</td>\n",
              "      <td></td>\n",
              "      <td>2022-11-28 16:59:15+03:00</td>\n",
              "      <td>0</td>\n",
              "    </tr>\n",
              "    <tr>\n",
              "      <th>78</th>\n",
              "      <td>71582181</td>\n",
              "      <td>Junior Data Scientist</td>\n",
              "      <td>&lt;p&gt;Блок «Управление благосостоянием» объединяе...</td>\n",
              "      <td>Python;SQL</td>\n",
              "      <td>2022-11-28 16:59:12+03:00</td>\n",
              "      <td>0</td>\n",
              "    </tr>\n",
              "    <tr>\n",
              "      <th>105</th>\n",
              "      <td>72221358</td>\n",
              "      <td>Data scientist (Computer Vision)</td>\n",
              "      <td>&lt;p&gt;В проект департамента, который занимается к...</td>\n",
              "      <td>Python;Computer Vision;PyTorch;Git;Linux</td>\n",
              "      <td>2022-11-11 13:49:03+03:00</td>\n",
              "      <td>4</td>\n",
              "    </tr>\n",
              "  </tbody>\n",
              "</table>\n",
              "</div>\n",
              "      <button class=\"colab-df-convert\" onclick=\"convertToInteractive('df-f9f53ca4-9d60-47da-bd19-c3f201699ed9')\"\n",
              "              title=\"Convert this dataframe to an interactive table.\"\n",
              "              style=\"display:none;\">\n",
              "        \n",
              "  <svg xmlns=\"http://www.w3.org/2000/svg\" height=\"24px\"viewBox=\"0 0 24 24\"\n",
              "       width=\"24px\">\n",
              "    <path d=\"M0 0h24v24H0V0z\" fill=\"none\"/>\n",
              "    <path d=\"M18.56 5.44l.94 2.06.94-2.06 2.06-.94-2.06-.94-.94-2.06-.94 2.06-2.06.94zm-11 1L8.5 8.5l.94-2.06 2.06-.94-2.06-.94L8.5 2.5l-.94 2.06-2.06.94zm10 10l.94 2.06.94-2.06 2.06-.94-2.06-.94-.94-2.06-.94 2.06-2.06.94z\"/><path d=\"M17.41 7.96l-1.37-1.37c-.4-.4-.92-.59-1.43-.59-.52 0-1.04.2-1.43.59L10.3 9.45l-7.72 7.72c-.78.78-.78 2.05 0 2.83L4 21.41c.39.39.9.59 1.41.59.51 0 1.02-.2 1.41-.59l7.78-7.78 2.81-2.81c.8-.78.8-2.07 0-2.86zM5.41 20L4 18.59l7.72-7.72 1.47 1.35L5.41 20z\"/>\n",
              "  </svg>\n",
              "      </button>\n",
              "      \n",
              "  <style>\n",
              "    .colab-df-container {\n",
              "      display:flex;\n",
              "      flex-wrap:wrap;\n",
              "      gap: 12px;\n",
              "    }\n",
              "\n",
              "    .colab-df-convert {\n",
              "      background-color: #E8F0FE;\n",
              "      border: none;\n",
              "      border-radius: 50%;\n",
              "      cursor: pointer;\n",
              "      display: none;\n",
              "      fill: #1967D2;\n",
              "      height: 32px;\n",
              "      padding: 0 0 0 0;\n",
              "      width: 32px;\n",
              "    }\n",
              "\n",
              "    .colab-df-convert:hover {\n",
              "      background-color: #E2EBFA;\n",
              "      box-shadow: 0px 1px 2px rgba(60, 64, 67, 0.3), 0px 1px 3px 1px rgba(60, 64, 67, 0.15);\n",
              "      fill: #174EA6;\n",
              "    }\n",
              "\n",
              "    [theme=dark] .colab-df-convert {\n",
              "      background-color: #3B4455;\n",
              "      fill: #D2E3FC;\n",
              "    }\n",
              "\n",
              "    [theme=dark] .colab-df-convert:hover {\n",
              "      background-color: #434B5C;\n",
              "      box-shadow: 0px 1px 3px 1px rgba(0, 0, 0, 0.15);\n",
              "      filter: drop-shadow(0px 1px 2px rgba(0, 0, 0, 0.3));\n",
              "      fill: #FFFFFF;\n",
              "    }\n",
              "  </style>\n",
              "\n",
              "      <script>\n",
              "        const buttonEl =\n",
              "          document.querySelector('#df-f9f53ca4-9d60-47da-bd19-c3f201699ed9 button.colab-df-convert');\n",
              "        buttonEl.style.display =\n",
              "          google.colab.kernel.accessAllowed ? 'block' : 'none';\n",
              "\n",
              "        async function convertToInteractive(key) {\n",
              "          const element = document.querySelector('#df-f9f53ca4-9d60-47da-bd19-c3f201699ed9');\n",
              "          const dataTable =\n",
              "            await google.colab.kernel.invokeFunction('convertToInteractive',\n",
              "                                                     [key], {});\n",
              "          if (!dataTable) return;\n",
              "\n",
              "          const docLinkHtml = 'Like what you see? Visit the ' +\n",
              "            '<a target=\"_blank\" href=https://colab.research.google.com/notebooks/data_table.ipynb>data table notebook</a>'\n",
              "            + ' to learn more about interactive tables.';\n",
              "          element.innerHTML = '';\n",
              "          dataTable['output_type'] = 'display_data';\n",
              "          await google.colab.output.renderOutput(dataTable, element);\n",
              "          const docLink = document.createElement('div');\n",
              "          docLink.innerHTML = docLinkHtml;\n",
              "          element.appendChild(docLink);\n",
              "        }\n",
              "      </script>\n",
              "    </div>\n",
              "  </div>\n",
              "  "
            ]
          },
          "metadata": {},
          "execution_count": 79
        }
      ]
    },
    {
      "cell_type": "code",
      "source": [
        "\n",
        "skillslist = df[term1 | term2].skills.tolist()"
      ],
      "metadata": {
        "id": "QIZ5kVkM2FVh"
      },
      "execution_count": null,
      "outputs": []
    },
    {
      "cell_type": "code",
      "source": [
        "skillslist_new = []\n",
        "for x in skillslist:\n",
        "  skillslist_new.extend(x.split(';'))"
      ],
      "metadata": {
        "id": "tr4e-MEq5jOE"
      },
      "execution_count": null,
      "outputs": []
    },
    {
      "cell_type": "code",
      "source": [
        "skillslist_new = [x for x in skillslist_new if x != '']"
      ],
      "metadata": {
        "id": "q_XQyuAJ6A1Q"
      },
      "execution_count": null,
      "outputs": []
    },
    {
      "cell_type": "code",
      "source": [
        "# Расчет и визуализация частоты встречаемости навыков с помощь groupby\n",
        "pd.DataFrame(skillslist_new,columns=['skill']).groupby('skill')['skill'].count().plot(kind='barh');"
      ],
      "metadata": {
        "id": "AJ5DZier68Sx",
        "outputId": "9f91e547-cd89-45e5-84f9-15ad99f9341e",
        "colab": {
          "base_uri": "https://localhost:8080/",
          "height": 265
        }
      },
      "execution_count": null,
      "outputs": [
        {
          "output_type": "display_data",
          "data": {
            "text/plain": [
              "<Figure size 432x288 with 1 Axes>"
            ],
            "image/png": "[encoded data removed]"
          },
          "metadata": {
            "needs_background": "light"
          }
        }
      ]
    },
    {
      "cell_type": "code",
      "source": [
        "# Расчет и визуализация частоты встречаемости навыков с помощь value_counts\n",
        "pd.DataFrame(skillslist_new,columns=['skill']).skill.value_counts(normalize=True).plot(kind='barh');"
      ],
      "metadata": {
        "id": "xyeas8pL7Zo-",
        "outputId": "36866e3b-de52-4a7e-8bbb-a791bc876992",
        "colab": {
          "base_uri": "https://localhost:8080/",
          "height": 282
        }
      },
      "execution_count": null,
      "outputs": [
        {
          "output_type": "execute_result",
          "data": {
            "text/plain": [
              "<matplotlib.axes._subplots.AxesSubplot at 0x7fd8defe60d0>"
            ]
          },
          "metadata": {},
          "execution_count": 106
        },
        {
          "output_type": "display_data",
          "data": {
            "text/plain": [
              "<Figure size 432x288 with 1 Axes>"
            ],
            "image/png": "[encoded data removed]"
          },
          "metadata": {
            "needs_background": "light"
          }
        }
      ]
    },
    {
      "cell_type": "code",
      "source": [
        "# Counter для подсчета элементов в массиве\n",
        " from collections import Counter"
      ],
      "metadata": {
        "id": "hU_CR3_-6GqT"
      },
      "execution_count": null,
      "outputs": []
    },
    {
      "cell_type": "code",
      "source": [
        "c = Counter(skillslist_new)"
      ],
      "metadata": {
        "id": "s9ihVt956Ayz"
      },
      "execution_count": null,
      "outputs": []
    },
    {
      "cell_type": "code",
      "source": [
        "#  Сохранение датафрейма в csv файл\n",
        "pd.DataFrame(c.most_common(10), columns=['skill', 'frequency']).to_csv('skills_frq.csv')"
      ],
      "metadata": {
        "id": "q5DilyVf6AwK"
      },
      "execution_count": null,
      "outputs": []
    },
    {
      "cell_type": "code",
      "source": [
        "#  Сохранение датафрейма в excel файл\n",
        "pd.DataFrame(c.most_common(10), columns=['skill', 'frequency']).to_excel('skills_frq.xlsx', index=False)"
      ],
      "metadata": {
        "id": "iltUm6DW8n35"
      },
      "execution_count": null,
      "outputs": []
    },
    {
      "cell_type": "code",
      "source": [
        "#  Сохранение датафрейма в pickle\n",
        "pd.DataFrame(c.most_common(10), columns=['skill', 'frequency']).to_pickle('skills_frq.pkl')"
      ],
      "metadata": {
        "id": "4b_8-RFl89dJ"
      },
      "execution_count": null,
      "outputs": []
    },
    {
      "cell_type": "code",
      "source": [
        "# Сохранение датафрейма в excel файл на разных листах\n",
        "with pd.ExcelWriter('skills_.xlsx') as writer:\n",
        "  pd.DataFrame(c.most_common(5), columns=['skill', 'frequency']).to_excel(writer, index=False, sheet_name='five')\n",
        "  pd.DataFrame(c.most_common(10), columns=['skill', 'frequency']).to_excel(writer, index=False,sheet_name='ten')\n",
        "  pd.DataFrame(c.most_common(20), columns=['skill', 'frequency']).to_excel(writer, index=False, sheet_name='twenty')"
      ],
      "metadata": {
        "id": "cnappwaI9t_m"
      },
      "execution_count": null,
      "outputs": []
    },
    {
      "cell_type": "code",
      "source": [
        "import sqlite3\n",
        "conn = sqlite3.connect('skills_database')"
      ],
      "metadata": {
        "id": "BITX5qrI9t8G"
      },
      "execution_count": null,
      "outputs": []
    },
    {
      "cell_type": "code",
      "source": [
        "# Сохранение датафрейма в БД\n",
        "df = pd.DataFrame(c.most_common(20), columns=['skill', 'frequency'])\n",
        "df.to_sql('skills', conn, if_exists='replace', index = False)\n",
        "conn.commit()\n",
        "conn.close()"
      ],
      "metadata": {
        "id": "15OEoZmN9t5g"
      },
      "execution_count": null,
      "outputs": []
    },
    {
      "cell_type": "code",
      "source": [
        "# Загрузка датафрейма из БД\n",
        "conn = sqlite3.connect('skills_database')\n",
        "pd.read_sql('select * from skills limit 10', conn)"
      ],
      "metadata": {
        "id": "b2kiYc4P_JaT"
      },
      "execution_count": 3,
      "outputs": []
    },
    {
      "cell_type": "code",
      "source": [
        "# Загрузка датафрейма из pickle файла\n",
        "pd.read_pickle('skills_frq.pkl')"
      ],
      "metadata": {
        "id": "Y6ulwtcM9R-Y",
        "outputId": "5c71410a-f5e7-42b3-ad4f-943ed91145ab",
        "colab": {
          "base_uri": "https://localhost:8080/",
          "height": 363
        }
      },
      "execution_count": null,
      "outputs": [
        {
          "output_type": "execute_result",
          "data": {
            "text/plain": [
              "             skill  frequency\n",
              "0           Python         11\n",
              "1              SQL         10\n",
              "2           Hadoop          3\n",
              "3    MS PowerPoint          2\n",
              "4      Data Mining          2\n",
              "5  Английский язык          2\n",
              "6  Computer Vision          2\n",
              "7          PyTorch          2\n",
              "8            Linux          2\n",
              "9            Spark          2"
            ],
            "text/html": [
              "\n",
              "  <div id=\"df-1ba37ff0-140b-4db5-a330-edac3c411640\">\n",
              "    <div class=\"colab-df-container\">\n",
              "      <div>\n",
              "<style scoped>\n",
              "    .dataframe tbody tr th:only-of-type {\n",
              "        vertical-align: middle;\n",
              "    }\n",
              "\n",
              "    .dataframe tbody tr th {\n",
              "        vertical-align: top;\n",
              "    }\n",
              "\n",
              "    .dataframe thead th {\n",
              "        text-align: right;\n",
              "    }\n",
              "</style>\n",
              "<table border=\"1\" class=\"dataframe\">\n",
              "  <thead>\n",
              "    <tr style=\"text-align: right;\">\n",
              "      <th></th>\n",
              "      <th>skill</th>\n",
              "      <th>frequency</th>\n",
              "    </tr>\n",
              "  </thead>\n",
              "  <tbody>\n",
              "    <tr>\n",
              "      <th>0</th>\n",
              "      <td>Python</td>\n",
              "      <td>11</td>\n",
              "    </tr>\n",
              "    <tr>\n",
              "      <th>1</th>\n",
              "      <td>SQL</td>\n",
              "      <td>10</td>\n",
              "    </tr>\n",
              "    <tr>\n",
              "      <th>2</th>\n",
              "      <td>Hadoop</td>\n",
              "      <td>3</td>\n",
              "    </tr>\n",
              "    <tr>\n",
              "      <th>3</th>\n",
              "      <td>MS PowerPoint</td>\n",
              "      <td>2</td>\n",
              "    </tr>\n",
              "    <tr>\n",
              "      <th>4</th>\n",
              "      <td>Data Mining</td>\n",
              "      <td>2</td>\n",
              "    </tr>\n",
              "    <tr>\n",
              "      <th>5</th>\n",
              "      <td>Английский язык</td>\n",
              "      <td>2</td>\n",
              "    </tr>\n",
              "    <tr>\n",
              "      <th>6</th>\n",
              "      <td>Computer Vision</td>\n",
              "      <td>2</td>\n",
              "    </tr>\n",
              "    <tr>\n",
              "      <th>7</th>\n",
              "      <td>PyTorch</td>\n",
              "      <td>2</td>\n",
              "    </tr>\n",
              "    <tr>\n",
              "      <th>8</th>\n",
              "      <td>Linux</td>\n",
              "      <td>2</td>\n",
              "    </tr>\n",
              "    <tr>\n",
              "      <th>9</th>\n",
              "      <td>Spark</td>\n",
              "      <td>2</td>\n",
              "    </tr>\n",
              "  </tbody>\n",
              "</table>\n",
              "</div>\n",
              "      <button class=\"colab-df-convert\" onclick=\"convertToInteractive('df-1ba37ff0-140b-4db5-a330-edac3c411640')\"\n",
              "              title=\"Convert this dataframe to an interactive table.\"\n",
              "              style=\"display:none;\">\n",
              "        \n",
              "  <svg xmlns=\"http://www.w3.org/2000/svg\" height=\"24px\"viewBox=\"0 0 24 24\"\n",
              "       width=\"24px\">\n",
              "    <path d=\"M0 0h24v24H0V0z\" fill=\"none\"/>\n",
              "    <path d=\"M18.56 5.44l.94 2.06.94-2.06 2.06-.94-2.06-.94-.94-2.06-.94 2.06-2.06.94zm-11 1L8.5 8.5l.94-2.06 2.06-.94-2.06-.94L8.5 2.5l-.94 2.06-2.06.94zm10 10l.94 2.06.94-2.06 2.06-.94-2.06-.94-.94-2.06-.94 2.06-2.06.94z\"/><path d=\"M17.41 7.96l-1.37-1.37c-.4-.4-.92-.59-1.43-.59-.52 0-1.04.2-1.43.59L10.3 9.45l-7.72 7.72c-.78.78-.78 2.05 0 2.83L4 21.41c.39.39.9.59 1.41.59.51 0 1.02-.2 1.41-.59l7.78-7.78 2.81-2.81c.8-.78.8-2.07 0-2.86zM5.41 20L4 18.59l7.72-7.72 1.47 1.35L5.41 20z\"/>\n",
              "  </svg>\n",
              "      </button>\n",
              "      \n",
              "  <style>\n",
              "    .colab-df-container {\n",
              "      display:flex;\n",
              "      flex-wrap:wrap;\n",
              "      gap: 12px;\n",
              "    }\n",
              "\n",
              "    .colab-df-convert {\n",
              "      background-color: #E8F0FE;\n",
              "      border: none;\n",
              "      border-radius: 50%;\n",
              "      cursor: pointer;\n",
              "      display: none;\n",
              "      fill: #1967D2;\n",
              "      height: 32px;\n",
              "      padding: 0 0 0 0;\n",
              "      width: 32px;\n",
              "    }\n",
              "\n",
              "    .colab-df-convert:hover {\n",
              "      background-color: #E2EBFA;\n",
              "      box-shadow: 0px 1px 2px rgba(60, 64, 67, 0.3), 0px 1px 3px 1px rgba(60, 64, 67, 0.15);\n",
              "      fill: #174EA6;\n",
              "    }\n",
              "\n",
              "    [theme=dark] .colab-df-convert {\n",
              "      background-color: #3B4455;\n",
              "      fill: #D2E3FC;\n",
              "    }\n",
              "\n",
              "    [theme=dark] .colab-df-convert:hover {\n",
              "      background-color: #434B5C;\n",
              "      box-shadow: 0px 1px 3px 1px rgba(0, 0, 0, 0.15);\n",
              "      filter: drop-shadow(0px 1px 2px rgba(0, 0, 0, 0.3));\n",
              "      fill: #FFFFFF;\n",
              "    }\n",
              "  </style>\n",
              "\n",
              "      <script>\n",
              "        const buttonEl =\n",
              "          document.querySelector('#df-1ba37ff0-140b-4db5-a330-edac3c411640 button.colab-df-convert');\n",
              "        buttonEl.style.display =\n",
              "          google.colab.kernel.accessAllowed ? 'block' : 'none';\n",
              "\n",
              "        async function convertToInteractive(key) {\n",
              "          const element = document.querySelector('#df-1ba37ff0-140b-4db5-a330-edac3c411640');\n",
              "          const dataTable =\n",
              "            await google.colab.kernel.invokeFunction('convertToInteractive',\n",
              "                                                     [key], {});\n",
              "          if (!dataTable) return;\n",
              "\n",
              "          const docLinkHtml = 'Like what you see? Visit the ' +\n",
              "            '<a target=\"_blank\" href=https://colab.research.google.com/notebooks/data_table.ipynb>data table notebook</a>'\n",
              "            + ' to learn more about interactive tables.';\n",
              "          element.innerHTML = '';\n",
              "          dataTable['output_type'] = 'display_data';\n",
              "          await google.colab.output.renderOutput(dataTable, element);\n",
              "          const docLink = document.createElement('div');\n",
              "          docLink.innerHTML = docLinkHtml;\n",
              "          element.appendChild(docLink);\n",
              "        }\n",
              "      </script>\n",
              "    </div>\n",
              "  </div>\n",
              "  "
            ]
          },
          "metadata": {},
          "execution_count": 113
        }
      ]
    },
    {
      "cell_type": "code",
      "source": [
        "# Загрузка датафрейма из excel файла\n",
        "pd.read_excel('skills_frq.xlsx')"
      ],
      "metadata": {
        "id": "dEv-o4R982LU",
        "outputId": "33e92a9f-f947-4f1a-98fc-29402e599dad",
        "colab": {
          "base_uri": "https://localhost:8080/",
          "height": 363
        }
      },
      "execution_count": null,
      "outputs": [
        {
          "output_type": "execute_result",
          "data": {
            "text/plain": [
              "             skill  frequency\n",
              "0           Python         11\n",
              "1              SQL         10\n",
              "2           Hadoop          3\n",
              "3    MS PowerPoint          2\n",
              "4      Data Mining          2\n",
              "5  Английский язык          2\n",
              "6  Computer Vision          2\n",
              "7          PyTorch          2\n",
              "8            Linux          2\n",
              "9            Spark          2"
            ],
            "text/html": [
              "\n",
              "  <div id=\"df-a3e400e4-0894-4bdd-9b59-3489a7c66dee\">\n",
              "    <div class=\"colab-df-container\">\n",
              "      <div>\n",
              "<style scoped>\n",
              "    .dataframe tbody tr th:only-of-type {\n",
              "        vertical-align: middle;\n",
              "    }\n",
              "\n",
              "    .dataframe tbody tr th {\n",
              "        vertical-align: top;\n",
              "    }\n",
              "\n",
              "    .dataframe thead th {\n",
              "        text-align: right;\n",
              "    }\n",
              "</style>\n",
              "<table border=\"1\" class=\"dataframe\">\n",
              "  <thead>\n",
              "    <tr style=\"text-align: right;\">\n",
              "      <th></th>\n",
              "      <th>skill</th>\n",
              "      <th>frequency</th>\n",
              "    </tr>\n",
              "  </thead>\n",
              "  <tbody>\n",
              "    <tr>\n",
              "      <th>0</th>\n",
              "      <td>Python</td>\n",
              "      <td>11</td>\n",
              "    </tr>\n",
              "    <tr>\n",
              "      <th>1</th>\n",
              "      <td>SQL</td>\n",
              "      <td>10</td>\n",
              "    </tr>\n",
              "    <tr>\n",
              "      <th>2</th>\n",
              "      <td>Hadoop</td>\n",
              "      <td>3</td>\n",
              "    </tr>\n",
              "    <tr>\n",
              "      <th>3</th>\n",
              "      <td>MS PowerPoint</td>\n",
              "      <td>2</td>\n",
              "    </tr>\n",
              "    <tr>\n",
              "      <th>4</th>\n",
              "      <td>Data Mining</td>\n",
              "      <td>2</td>\n",
              "    </tr>\n",
              "    <tr>\n",
              "      <th>5</th>\n",
              "      <td>Английский язык</td>\n",
              "      <td>2</td>\n",
              "    </tr>\n",
              "    <tr>\n",
              "      <th>6</th>\n",
              "      <td>Computer Vision</td>\n",
              "      <td>2</td>\n",
              "    </tr>\n",
              "    <tr>\n",
              "      <th>7</th>\n",
              "      <td>PyTorch</td>\n",
              "      <td>2</td>\n",
              "    </tr>\n",
              "    <tr>\n",
              "      <th>8</th>\n",
              "      <td>Linux</td>\n",
              "      <td>2</td>\n",
              "    </tr>\n",
              "    <tr>\n",
              "      <th>9</th>\n",
              "      <td>Spark</td>\n",
              "      <td>2</td>\n",
              "    </tr>\n",
              "  </tbody>\n",
              "</table>\n",
              "</div>\n",
              "      <button class=\"colab-df-convert\" onclick=\"convertToInteractive('df-a3e400e4-0894-4bdd-9b59-3489a7c66dee')\"\n",
              "              title=\"Convert this dataframe to an interactive table.\"\n",
              "              style=\"display:none;\">\n",
              "        \n",
              "  <svg xmlns=\"http://www.w3.org/2000/svg\" height=\"24px\"viewBox=\"0 0 24 24\"\n",
              "       width=\"24px\">\n",
              "    <path d=\"M0 0h24v24H0V0z\" fill=\"none\"/>\n",
              "    <path d=\"M18.56 5.44l.94 2.06.94-2.06 2.06-.94-2.06-.94-.94-2.06-.94 2.06-2.06.94zm-11 1L8.5 8.5l.94-2.06 2.06-.94-2.06-.94L8.5 2.5l-.94 2.06-2.06.94zm10 10l.94 2.06.94-2.06 2.06-.94-2.06-.94-.94-2.06-.94 2.06-2.06.94z\"/><path d=\"M17.41 7.96l-1.37-1.37c-.4-.4-.92-.59-1.43-.59-.52 0-1.04.2-1.43.59L10.3 9.45l-7.72 7.72c-.78.78-.78 2.05 0 2.83L4 21.41c.39.39.9.59 1.41.59.51 0 1.02-.2 1.41-.59l7.78-7.78 2.81-2.81c.8-.78.8-2.07 0-2.86zM5.41 20L4 18.59l7.72-7.72 1.47 1.35L5.41 20z\"/>\n",
              "  </svg>\n",
              "      </button>\n",
              "      \n",
              "  <style>\n",
              "    .colab-df-container {\n",
              "      display:flex;\n",
              "      flex-wrap:wrap;\n",
              "      gap: 12px;\n",
              "    }\n",
              "\n",
              "    .colab-df-convert {\n",
              "      background-color: #E8F0FE;\n",
              "      border: none;\n",
              "      border-radius: 50%;\n",
              "      cursor: pointer;\n",
              "      display: none;\n",
              "      fill: #1967D2;\n",
              "      height: 32px;\n",
              "      padding: 0 0 0 0;\n",
              "      width: 32px;\n",
              "    }\n",
              "\n",
              "    .colab-df-convert:hover {\n",
              "      background-color: #E2EBFA;\n",
              "      box-shadow: 0px 1px 2px rgba(60, 64, 67, 0.3), 0px 1px 3px 1px rgba(60, 64, 67, 0.15);\n",
              "      fill: #174EA6;\n",
              "    }\n",
              "\n",
              "    [theme=dark] .colab-df-convert {\n",
              "      background-color: #3B4455;\n",
              "      fill: #D2E3FC;\n",
              "    }\n",
              "\n",
              "    [theme=dark] .colab-df-convert:hover {\n",
              "      background-color: #434B5C;\n",
              "      box-shadow: 0px 1px 3px 1px rgba(0, 0, 0, 0.15);\n",
              "      filter: drop-shadow(0px 1px 2px rgba(0, 0, 0, 0.3));\n",
              "      fill: #FFFFFF;\n",
              "    }\n",
              "  </style>\n",
              "\n",
              "      <script>\n",
              "        const buttonEl =\n",
              "          document.querySelector('#df-a3e400e4-0894-4bdd-9b59-3489a7c66dee button.colab-df-convert');\n",
              "        buttonEl.style.display =\n",
              "          google.colab.kernel.accessAllowed ? 'block' : 'none';\n",
              "\n",
              "        async function convertToInteractive(key) {\n",
              "          const element = document.querySelector('#df-a3e400e4-0894-4bdd-9b59-3489a7c66dee');\n",
              "          const dataTable =\n",
              "            await google.colab.kernel.invokeFunction('convertToInteractive',\n",
              "                                                     [key], {});\n",
              "          if (!dataTable) return;\n",
              "\n",
              "          const docLinkHtml = 'Like what you see? Visit the ' +\n",
              "            '<a target=\"_blank\" href=https://colab.research.google.com/notebooks/data_table.ipynb>data table notebook</a>'\n",
              "            + ' to learn more about interactive tables.';\n",
              "          element.innerHTML = '';\n",
              "          dataTable['output_type'] = 'display_data';\n",
              "          await google.colab.output.renderOutput(dataTable, element);\n",
              "          const docLink = document.createElement('div');\n",
              "          docLink.innerHTML = docLinkHtml;\n",
              "          element.appendChild(docLink);\n",
              "        }\n",
              "      </script>\n",
              "    </div>\n",
              "  </div>\n",
              "  "
            ]
          },
          "metadata": {},
          "execution_count": 111
        }
      ]
    },
    {
      "cell_type": "code",
      "source": [
        "# Загрузка датафрейма из csv файла\n",
        "pd.read_csv('skills_frq.csv').drop('Unnamed: 0',axis=1)"
      ],
      "metadata": {
        "id": "5ItckQeL6Atj",
        "outputId": "b5fd112f-4647-4918-efeb-dd6274e93582",
        "colab": {
          "base_uri": "https://localhost:8080/",
          "height": 363
        }
      },
      "execution_count": null,
      "outputs": [
        {
          "output_type": "execute_result",
          "data": {
            "text/plain": [
              "             skill  frequency\n",
              "0           Python         11\n",
              "1              SQL         10\n",
              "2           Hadoop          3\n",
              "3    MS PowerPoint          2\n",
              "4      Data Mining          2\n",
              "5  Английский язык          2\n",
              "6  Computer Vision          2\n",
              "7          PyTorch          2\n",
              "8            Linux          2\n",
              "9            Spark          2"
            ],
            "text/html": [
              "\n",
              "  <div id=\"df-126cb027-fdeb-4057-8fcc-822eb0022b4e\">\n",
              "    <div class=\"colab-df-container\">\n",
              "      <div>\n",
              "<style scoped>\n",
              "    .dataframe tbody tr th:only-of-type {\n",
              "        vertical-align: middle;\n",
              "    }\n",
              "\n",
              "    .dataframe tbody tr th {\n",
              "        vertical-align: top;\n",
              "    }\n",
              "\n",
              "    .dataframe thead th {\n",
              "        text-align: right;\n",
              "    }\n",
              "</style>\n",
              "<table border=\"1\" class=\"dataframe\">\n",
              "  <thead>\n",
              "    <tr style=\"text-align: right;\">\n",
              "      <th></th>\n",
              "      <th>skill</th>\n",
              "      <th>frequency</th>\n",
              "    </tr>\n",
              "  </thead>\n",
              "  <tbody>\n",
              "    <tr>\n",
              "      <th>0</th>\n",
              "      <td>Python</td>\n",
              "      <td>11</td>\n",
              "    </tr>\n",
              "    <tr>\n",
              "      <th>1</th>\n",
              "      <td>SQL</td>\n",
              "      <td>10</td>\n",
              "    </tr>\n",
              "    <tr>\n",
              "      <th>2</th>\n",
              "      <td>Hadoop</td>\n",
              "      <td>3</td>\n",
              "    </tr>\n",
              "    <tr>\n",
              "      <th>3</th>\n",
              "      <td>MS PowerPoint</td>\n",
              "      <td>2</td>\n",
              "    </tr>\n",
              "    <tr>\n",
              "      <th>4</th>\n",
              "      <td>Data Mining</td>\n",
              "      <td>2</td>\n",
              "    </tr>\n",
              "    <tr>\n",
              "      <th>5</th>\n",
              "      <td>Английский язык</td>\n",
              "      <td>2</td>\n",
              "    </tr>\n",
              "    <tr>\n",
              "      <th>6</th>\n",
              "      <td>Computer Vision</td>\n",
              "      <td>2</td>\n",
              "    </tr>\n",
              "    <tr>\n",
              "      <th>7</th>\n",
              "      <td>PyTorch</td>\n",
              "      <td>2</td>\n",
              "    </tr>\n",
              "    <tr>\n",
              "      <th>8</th>\n",
              "      <td>Linux</td>\n",
              "      <td>2</td>\n",
              "    </tr>\n",
              "    <tr>\n",
              "      <th>9</th>\n",
              "      <td>Spark</td>\n",
              "      <td>2</td>\n",
              "    </tr>\n",
              "  </tbody>\n",
              "</table>\n",
              "</div>\n",
              "      <button class=\"colab-df-convert\" onclick=\"convertToInteractive('df-126cb027-fdeb-4057-8fcc-822eb0022b4e')\"\n",
              "              title=\"Convert this dataframe to an interactive table.\"\n",
              "              style=\"display:none;\">\n",
              "        \n",
              "  <svg xmlns=\"http://www.w3.org/2000/svg\" height=\"24px\"viewBox=\"0 0 24 24\"\n",
              "       width=\"24px\">\n",
              "    <path d=\"M0 0h24v24H0V0z\" fill=\"none\"/>\n",
              "    <path d=\"M18.56 5.44l.94 2.06.94-2.06 2.06-.94-2.06-.94-.94-2.06-.94 2.06-2.06.94zm-11 1L8.5 8.5l.94-2.06 2.06-.94-2.06-.94L8.5 2.5l-.94 2.06-2.06.94zm10 10l.94 2.06.94-2.06 2.06-.94-2.06-.94-.94-2.06-.94 2.06-2.06.94z\"/><path d=\"M17.41 7.96l-1.37-1.37c-.4-.4-.92-.59-1.43-.59-.52 0-1.04.2-1.43.59L10.3 9.45l-7.72 7.72c-.78.78-.78 2.05 0 2.83L4 21.41c.39.39.9.59 1.41.59.51 0 1.02-.2 1.41-.59l7.78-7.78 2.81-2.81c.8-.78.8-2.07 0-2.86zM5.41 20L4 18.59l7.72-7.72 1.47 1.35L5.41 20z\"/>\n",
              "  </svg>\n",
              "      </button>\n",
              "      \n",
              "  <style>\n",
              "    .colab-df-container {\n",
              "      display:flex;\n",
              "      flex-wrap:wrap;\n",
              "      gap: 12px;\n",
              "    }\n",
              "\n",
              "    .colab-df-convert {\n",
              "      background-color: #E8F0FE;\n",
              "      border: none;\n",
              "      border-radius: 50%;\n",
              "      cursor: pointer;\n",
              "      display: none;\n",
              "      fill: #1967D2;\n",
              "      height: 32px;\n",
              "      padding: 0 0 0 0;\n",
              "      width: 32px;\n",
              "    }\n",
              "\n",
              "    .colab-df-convert:hover {\n",
              "      background-color: #E2EBFA;\n",
              "      box-shadow: 0px 1px 2px rgba(60, 64, 67, 0.3), 0px 1px 3px 1px rgba(60, 64, 67, 0.15);\n",
              "      fill: #174EA6;\n",
              "    }\n",
              "\n",
              "    [theme=dark] .colab-df-convert {\n",
              "      background-color: #3B4455;\n",
              "      fill: #D2E3FC;\n",
              "    }\n",
              "\n",
              "    [theme=dark] .colab-df-convert:hover {\n",
              "      background-color: #434B5C;\n",
              "      box-shadow: 0px 1px 3px 1px rgba(0, 0, 0, 0.15);\n",
              "      filter: drop-shadow(0px 1px 2px rgba(0, 0, 0, 0.3));\n",
              "      fill: #FFFFFF;\n",
              "    }\n",
              "  </style>\n",
              "\n",
              "      <script>\n",
              "        const buttonEl =\n",
              "          document.querySelector('#df-126cb027-fdeb-4057-8fcc-822eb0022b4e button.colab-df-convert');\n",
              "        buttonEl.style.display =\n",
              "          google.colab.kernel.accessAllowed ? 'block' : 'none';\n",
              "\n",
              "        async function convertToInteractive(key) {\n",
              "          const element = document.querySelector('#df-126cb027-fdeb-4057-8fcc-822eb0022b4e');\n",
              "          const dataTable =\n",
              "            await google.colab.kernel.invokeFunction('convertToInteractive',\n",
              "                                                     [key], {});\n",
              "          if (!dataTable) return;\n",
              "\n",
              "          const docLinkHtml = 'Like what you see? Visit the ' +\n",
              "            '<a target=\"_blank\" href=https://colab.research.google.com/notebooks/data_table.ipynb>data table notebook</a>'\n",
              "            + ' to learn more about interactive tables.';\n",
              "          element.innerHTML = '';\n",
              "          dataTable['output_type'] = 'display_data';\n",
              "          await google.colab.output.renderOutput(dataTable, element);\n",
              "          const docLink = document.createElement('div');\n",
              "          docLink.innerHTML = docLinkHtml;\n",
              "          element.appendChild(docLink);\n",
              "        }\n",
              "      </script>\n",
              "    </div>\n",
              "  </div>\n",
              "  "
            ]
          },
          "metadata": {},
          "execution_count": 109
        }
      ]
    },
    {
      "cell_type": "code",
      "execution_count": null,
      "outputs": [
        {
          "data": {
            "text/plain": "         id                                               name  \\\n0  55415805                     Менеджер по работе с клиентами   \n1  69355530                             Финансовый консультант   \n2  45381514     Менеджер по привлечению корпоративных клиентов   \n3  45790891  Менеджер по работе с ключевыми клиентами малог...   \n4  69957849        Стажёр в отдел документооборота SberDevices   \n\n                                         description  \\\n0  <p>Сбер — лучший работодатель России. У нас бо...   \n1  <p>Сбер — лучший работодатель России. У нас бо...   \n2  <p>Сбер — лучший работодатель России. У нас бо...   \n3  <p>Сбер — лучший работодатель России. У нас бо...   \n4  <p>Цифровые поверхности Салют (SberDevices) — ...   \n\n                                              skills              published_at  \n0                                                 []  2022-09-07T13:55:11+0300  \n1                                                 []  2022-09-05T11:25:49+0300  \n2  [{'name': 'Холодные продажи'}, {'name': 'Поиск...  2022-09-01T14:20:50+0300  \n3  [{'name': 'Прямые продажи'}, {'name': 'Финансо...  2022-09-13T09:25:39+0300  \n4  [{'name': 'Работа с большим объемом информации...  2022-09-19T11:20:47+0300  ",
            "text/html": "<div>\n<style scoped>\n    .dataframe tbody tr th:only-of-type {\n        vertical-align: middle;\n    }\n\n    .dataframe tbody tr th {\n        vertical-align: top;\n    }\n\n    .dataframe thead th {\n        text-align: right;\n    }\n</style>\n<table border=\"1\" class=\"dataframe\">\n  <thead>\n    <tr style=\"text-align: right;\">\n      <th></th>\n      <th>id</th>\n      <th>name</th>\n      <th>description</th>\n      <th>skills</th>\n      <th>published_at</th>\n    </tr>\n  </thead>\n  <tbody>\n    <tr>\n      <th>0</th>\n      <td>55415805</td>\n      <td>Менеджер по работе с клиентами</td>\n      <td>&lt;p&gt;Сбер — лучший работодатель России. У нас бо...</td>\n      <td>[]</td>\n      <td>2022-09-07T13:55:11+0300</td>\n    </tr>\n    <tr>\n      <th>1</th>\n      <td>69355530</td>\n      <td>Финансовый консультант</td>\n      <td>&lt;p&gt;Сбер — лучший работодатель России. У нас бо...</td>\n      <td>[]</td>\n      <td>2022-09-05T11:25:49+0300</td>\n    </tr>\n    <tr>\n      <th>2</th>\n      <td>45381514</td>\n      <td>Менеджер по привлечению корпоративных клиентов</td>\n      <td>&lt;p&gt;Сбер — лучший работодатель России. У нас бо...</td>\n      <td>[{'name': 'Холодные продажи'}, {'name': 'Поиск...</td>\n      <td>2022-09-01T14:20:50+0300</td>\n    </tr>\n    <tr>\n      <th>3</th>\n      <td>45790891</td>\n      <td>Менеджер по работе с ключевыми клиентами малог...</td>\n      <td>&lt;p&gt;Сбер — лучший работодатель России. У нас бо...</td>\n      <td>[{'name': 'Прямые продажи'}, {'name': 'Финансо...</td>\n      <td>2022-09-13T09:25:39+0300</td>\n    </tr>\n    <tr>\n      <th>4</th>\n      <td>69957849</td>\n      <td>Стажёр в отдел документооборота SberDevices</td>\n      <td>&lt;p&gt;Цифровые поверхности Салют (SberDevices) — ...</td>\n      <td>[{'name': 'Работа с большим объемом информации...</td>\n      <td>2022-09-19T11:20:47+0300</td>\n    </tr>\n  </tbody>\n</table>\n</div>"
          },
          "execution_count": 33,
          "metadata": {},
          "output_type": "execute_result"
        }
      ],
      "source": [
        "df.head()"
      ],
      "metadata": {
        "pycharm": {
          "name": "#%%\n"
        },
        "id": "3VMzYxeurLp9",
        "outputId": "29472132-4024-4d99-9521-c25623bc60c5"
      }
    },
    {
      "cell_type": "code",
      "execution_count": null,
      "outputs": [],
      "source": [],
      "metadata": {
        "pycharm": {
          "name": "#%%\n"
        },
        "id": "mGvEqlLSrLqC"
      }
    }
  ],
  "metadata": {
    "kernelspec": {
      "display_name": "Python 3",
      "language": "python",
      "name": "python3"
    },
    "language_info": {
      "codemirror_mode": {
        "name": "ipython",
        "version": 3
      },
      "file_extension": ".py",
      "mimetype": "text/x-python",
      "name": "python",
      "nbconvert_exporter": "python",
      "pygments_lexer": "ipython3",
      "version": "3.8.5"
    },
    "colab": {
      "provenance": []
    },
    "widgets": {
      "application/vnd.jupyter.widget-state+json": {
        "030a7237c07843d5b45c48168a465563": {
          "model_module": "@jupyter-widgets/controls",
          "model_name": "HBoxModel",
          "model_module_version": "1.5.0",
          "state": {
            "_dom_classes": [],
            "_model_module": "@jupyter-widgets/controls",
            "_model_module_version": "1.5.0",
            "_model_name": "HBoxModel",
            "_view_count": null,
            "_view_module": "@jupyter-widgets/controls",
            "_view_module_version": "1.5.0",
            "_view_name": "HBoxView",
            "box_style": "",
            "children": [
              "IPY_MODEL_8ac61d92b6c44eb286ee3cb28f3a7c30",
              "IPY_MODEL_70f0123624cd4c7da4cbd16e2c9a85ad",
              "IPY_MODEL_9f9d51bbe5c94d6ab425774e15d60793"
            ],
            "layout": "IPY_MODEL_ea81c7660aa54e08920f58c4d6bb8adc"
          }
        },
        "8ac61d92b6c44eb286ee3cb28f3a7c30": {
          "model_module": "@jupyter-widgets/controls",
          "model_name": "HTMLModel",
          "model_module_version": "1.5.0",
          "state": {
            "_dom_classes": [],
            "_model_module": "@jupyter-widgets/controls",
            "_model_module_version": "1.5.0",
            "_model_name": "HTMLModel",
            "_view_count": null,
            "_view_module": "@jupyter-widgets/controls",
            "_view_module_version": "1.5.0",
            "_view_name": "HTMLView",
            "description": "",
            "description_tooltip": null,
            "layout": "IPY_MODEL_3004228971284326b39a4ce688c895f8",
            "placeholder": "​",
            "style": "IPY_MODEL_f0c4ba316a894794baa8c2ead59076ce",
            "value": "100%"
          }
        },
        "70f0123624cd4c7da4cbd16e2c9a85ad": {
          "model_module": "@jupyter-widgets/controls",
          "model_name": "FloatProgressModel",
          "model_module_version": "1.5.0",
          "state": {
            "_dom_classes": [],
            "_model_module": "@jupyter-widgets/controls",
            "_model_module_version": "1.5.0",
            "_model_name": "FloatProgressModel",
            "_view_count": null,
            "_view_module": "@jupyter-widgets/controls",
            "_view_module_version": "1.5.0",
            "_view_name": "ProgressView",
            "bar_style": "success",
            "description": "",
            "description_tooltip": null,
            "layout": "IPY_MODEL_c44dd51e594d42f1bda839fa34f9b582",
            "max": 15,
            "min": 0,
            "orientation": "horizontal",
            "style": "IPY_MODEL_b08b51b5dcbc4084a68a9cb10c55b11f",
            "value": 15
          }
        },
        "9f9d51bbe5c94d6ab425774e15d60793": {
          "model_module": "@jupyter-widgets/controls",
          "model_name": "HTMLModel",
          "model_module_version": "1.5.0",
          "state": {
            "_dom_classes": [],
            "_model_module": "@jupyter-widgets/controls",
            "_model_module_version": "1.5.0",
            "_model_name": "HTMLModel",
            "_view_count": null,
            "_view_module": "@jupyter-widgets/controls",
            "_view_module_version": "1.5.0",
            "_view_name": "HTMLView",
            "description": "",
            "description_tooltip": null,
            "layout": "IPY_MODEL_c6e557b008d24b7ebc7bd6f93a75e237",
            "placeholder": "​",
            "style": "IPY_MODEL_3db61a32c75f4119a06dbf02f20094c9",
            "value": " 15/15 [00:14&lt;00:00,  1.14it/s]"
          }
        },
        "ea81c7660aa54e08920f58c4d6bb8adc": {
          "model_module": "@jupyter-widgets/base",
          "model_name": "LayoutModel",
          "model_module_version": "1.2.0",
          "state": {
            "_model_module": "@jupyter-widgets/base",
            "_model_module_version": "1.2.0",
            "_model_name": "LayoutModel",
            "_view_count": null,
            "_view_module": "@jupyter-widgets/base",
            "_view_module_version": "1.2.0",
            "_view_name": "LayoutView",
            "align_content": null,
            "align_items": null,
            "align_self": null,
            "border": null,
            "bottom": null,
            "display": null,
            "flex": null,
            "flex_flow": null,
            "grid_area": null,
            "grid_auto_columns": null,
            "grid_auto_flow": null,
            "grid_auto_rows": null,
            "grid_column": null,
            "grid_gap": null,
            "grid_row": null,
            "grid_template_areas": null,
            "grid_template_columns": null,
            "grid_template_rows": null,
            "height": null,
            "justify_content": null,
            "justify_items": null,
            "left": null,
            "margin": null,
            "max_height": null,
            "max_width": null,
            "min_height": null,
            "min_width": null,
            "object_fit": null,
            "object_position": null,
            "order": null,
            "overflow": null,
            "overflow_x": null,
            "overflow_y": null,
            "padding": null,
            "right": null,
            "top": null,
            "visibility": null,
            "width": null
          }
        },
        "3004228971284326b39a4ce688c895f8": {
          "model_module": "@jupyter-widgets/base",
          "model_name": "LayoutModel",
          "model_module_version": "1.2.0",
          "state": {
            "_model_module": "@jupyter-widgets/base",
            "_model_module_version": "1.2.0",
            "_model_name": "LayoutModel",
            "_view_count": null,
            "_view_module": "@jupyter-widgets/base",
            "_view_module_version": "1.2.0",
            "_view_name": "LayoutView",
            "align_content": null,
            "align_items": null,
            "align_self": null,
            "border": null,
            "bottom": null,
            "display": null,
            "flex": null,
            "flex_flow": null,
            "grid_area": null,
            "grid_auto_columns": null,
            "grid_auto_flow": null,
            "grid_auto_rows": null,
            "grid_column": null,
            "grid_gap": null,
            "grid_row": null,
            "grid_template_areas": null,
            "grid_template_columns": null,
            "grid_template_rows": null,
            "height": null,
            "justify_content": null,
            "justify_items": null,
            "left": null,
            "margin": null,
            "max_height": null,
            "max_width": null,
            "min_height": null,
            "min_width": null,
            "object_fit": null,
            "object_position": null,
            "order": null,
            "overflow": null,
            "overflow_x": null,
            "overflow_y": null,
            "padding": null,
            "right": null,
            "top": null,
            "visibility": null,
            "width": null
          }
        },
        "f0c4ba316a894794baa8c2ead59076ce": {
          "model_module": "@jupyter-widgets/controls",
          "model_name": "DescriptionStyleModel",
          "model_module_version": "1.5.0",
          "state": {
            "_model_module": "@jupyter-widgets/controls",
            "_model_module_version": "1.5.0",
            "_model_name": "DescriptionStyleModel",
            "_view_count": null,
            "_view_module": "@jupyter-widgets/base",
            "_view_module_version": "1.2.0",
            "_view_name": "StyleView",
            "description_width": ""
          }
        },
        "c44dd51e594d42f1bda839fa34f9b582": {
          "model_module": "@jupyter-widgets/base",
          "model_name": "LayoutModel",
          "model_module_version": "1.2.0",
          "state": {
            "_model_module": "@jupyter-widgets/base",
            "_model_module_version": "1.2.0",
            "_model_name": "LayoutModel",
            "_view_count": null,
            "_view_module": "@jupyter-widgets/base",
            "_view_module_version": "1.2.0",
            "_view_name": "LayoutView",
            "align_content": null,
            "align_items": null,
            "align_self": null,
            "border": null,
            "bottom": null,
            "display": null,
            "flex": null,
            "flex_flow": null,
            "grid_area": null,
            "grid_auto_columns": null,
            "grid_auto_flow": null,
            "grid_auto_rows": null,
            "grid_column": null,
            "grid_gap": null,
            "grid_row": null,
            "grid_template_areas": null,
            "grid_template_columns": null,
            "grid_template_rows": null,
            "height": null,
            "justify_content": null,
            "justify_items": null,
            "left": null,
            "margin": null,
            "max_height": null,
            "max_width": null,
            "min_height": null,
            "min_width": null,
            "object_fit": null,
            "object_position": null,
            "order": null,
            "overflow": null,
            "overflow_x": null,
            "overflow_y": null,
            "padding": null,
            "right": null,
            "top": null,
            "visibility": null,
            "width": null
          }
        },
        "b08b51b5dcbc4084a68a9cb10c55b11f": {
          "model_module": "@jupyter-widgets/controls",
          "model_name": "ProgressStyleModel",
          "model_module_version": "1.5.0",
          "state": {
            "_model_module": "@jupyter-widgets/controls",
            "_model_module_version": "1.5.0",
            "_model_name": "ProgressStyleModel",
            "_view_count": null,
            "_view_module": "@jupyter-widgets/base",
            "_view_module_version": "1.2.0",
            "_view_name": "StyleView",
            "bar_color": null,
            "description_width": ""
          }
        },
        "c6e557b008d24b7ebc7bd6f93a75e237": {
          "model_module": "@jupyter-widgets/base",
          "model_name": "LayoutModel",
          "model_module_version": "1.2.0",
          "state": {
            "_model_module": "@jupyter-widgets/base",
            "_model_module_version": "1.2.0",
            "_model_name": "LayoutModel",
            "_view_count": null,
            "_view_module": "@jupyter-widgets/base",
            "_view_module_version": "1.2.0",
            "_view_name": "LayoutView",
            "align_content": null,
            "align_items": null,
            "align_self": null,
            "border": null,
            "bottom": null,
            "display": null,
            "flex": null,
            "flex_flow": null,
            "grid_area": null,
            "grid_auto_columns": null,
            "grid_auto_flow": null,
            "grid_auto_rows": null,
            "grid_column": null,
            "grid_gap": null,
            "grid_row": null,
            "grid_template_areas": null,
            "grid_template_columns": null,
            "grid_template_rows": null,
            "height": null,
            "justify_content": null,
            "justify_items": null,
            "left": null,
            "margin": null,
            "max_height": null,
            "max_width": null,
            "min_height": null,
            "min_width": null,
            "object_fit": null,
            "object_position": null,
            "order": null,
            "overflow": null,
            "overflow_x": null,
            "overflow_y": null,
            "padding": null,
            "right": null,
            "top": null,
            "visibility": null,
            "width": null
          }
        },
        "3db61a32c75f4119a06dbf02f20094c9": {
          "model_module": "@jupyter-widgets/controls",
          "model_name": "DescriptionStyleModel",
          "model_module_version": "1.5.0",
          "state": {
            "_model_module": "@jupyter-widgets/controls",
            "_model_module_version": "1.5.0",
            "_model_name": "DescriptionStyleModel",
            "_view_count": null,
            "_view_module": "@jupyter-widgets/base",
            "_view_module_version": "1.2.0",
            "_view_name": "StyleView",
            "description_width": ""
          }
        },
        "0db524921f6d44d08eb8b62ded878793": {
          "model_module": "@jupyter-widgets/controls",
          "model_name": "HBoxModel",
          "model_module_version": "1.5.0",
          "state": {
            "_dom_classes": [],
            "_model_module": "@jupyter-widgets/controls",
            "_model_module_version": "1.5.0",
            "_model_name": "HBoxModel",
            "_view_count": null,
            "_view_module": "@jupyter-widgets/controls",
            "_view_module_version": "1.5.0",
            "_view_name": "HBoxView",
            "box_style": "",
            "children": [
              "IPY_MODEL_3540c49ea74e4cbca77d53522bda237f",
              "IPY_MODEL_801e0bad629e4c1fb64548cd15f450a6",
              "IPY_MODEL_ffd7c0e1551c4b08b3a08f52e3e5d6a3"
            ],
            "layout": "IPY_MODEL_3966aba248474da0b00f5ec2c0190782"
          }
        },
        "3540c49ea74e4cbca77d53522bda237f": {
          "model_module": "@jupyter-widgets/controls",
          "model_name": "HTMLModel",
          "model_module_version": "1.5.0",
          "state": {
            "_dom_classes": [],
            "_model_module": "@jupyter-widgets/controls",
            "_model_module_version": "1.5.0",
            "_model_name": "HTMLModel",
            "_view_count": null,
            "_view_module": "@jupyter-widgets/controls",
            "_view_module_version": "1.5.0",
            "_view_name": "HTMLView",
            "description": "",
            "description_tooltip": null,
            "layout": "IPY_MODEL_40d8100dc58449efa02981fcfce2f306",
            "placeholder": "​",
            "style": "IPY_MODEL_fd3e190c468248e4bfdda6e45052be48",
            "value": "100%"
          }
        },
        "801e0bad629e4c1fb64548cd15f450a6": {
          "model_module": "@jupyter-widgets/controls",
          "model_name": "FloatProgressModel",
          "model_module_version": "1.5.0",
          "state": {
            "_dom_classes": [],
            "_model_module": "@jupyter-widgets/controls",
            "_model_module_version": "1.5.0",
            "_model_name": "FloatProgressModel",
            "_view_count": null,
            "_view_module": "@jupyter-widgets/controls",
            "_view_module_version": "1.5.0",
            "_view_name": "ProgressView",
            "bar_style": "success",
            "description": "",
            "description_tooltip": null,
            "layout": "IPY_MODEL_0633211d47624c51bd027d7dc73adc11",
            "max": 300,
            "min": 0,
            "orientation": "horizontal",
            "style": "IPY_MODEL_5dec3d3737a94e188222a05b62598326",
            "value": 300
          }
        },
        "ffd7c0e1551c4b08b3a08f52e3e5d6a3": {
          "model_module": "@jupyter-widgets/controls",
          "model_name": "HTMLModel",
          "model_module_version": "1.5.0",
          "state": {
            "_dom_classes": [],
            "_model_module": "@jupyter-widgets/controls",
            "_model_module_version": "1.5.0",
            "_model_name": "HTMLModel",
            "_view_count": null,
            "_view_module": "@jupyter-widgets/controls",
            "_view_module_version": "1.5.0",
            "_view_name": "HTMLView",
            "description": "",
            "description_tooltip": null,
            "layout": "IPY_MODEL_0207a22ef65d40ffaf598955237d6557",
            "placeholder": "​",
            "style": "IPY_MODEL_fe8aa57b89c94fcca4cc4984d2b7e62b",
            "value": " 300/300 [02:37&lt;00:00,  1.99it/s]"
          }
        },
        "3966aba248474da0b00f5ec2c0190782": {
          "model_module": "@jupyter-widgets/base",
          "model_name": "LayoutModel",
          "model_module_version": "1.2.0",
          "state": {
            "_model_module": "@jupyter-widgets/base",
            "_model_module_version": "1.2.0",
            "_model_name": "LayoutModel",
            "_view_count": null,
            "_view_module": "@jupyter-widgets/base",
            "_view_module_version": "1.2.0",
            "_view_name": "LayoutView",
            "align_content": null,
            "align_items": null,
            "align_self": null,
            "border": null,
            "bottom": null,
            "display": null,
            "flex": null,
            "flex_flow": null,
            "grid_area": null,
            "grid_auto_columns": null,
            "grid_auto_flow": null,
            "grid_auto_rows": null,
            "grid_column": null,
            "grid_gap": null,
            "grid_row": null,
            "grid_template_areas": null,
            "grid_template_columns": null,
            "grid_template_rows": null,
            "height": null,
            "justify_content": null,
            "justify_items": null,
            "left": null,
            "margin": null,
            "max_height": null,
            "max_width": null,
            "min_height": null,
            "min_width": null,
            "object_fit": null,
            "object_position": null,
            "order": null,
            "overflow": null,
            "overflow_x": null,
            "overflow_y": null,
            "padding": null,
            "right": null,
            "top": null,
            "visibility": null,
            "width": null
          }
        },
        "40d8100dc58449efa02981fcfce2f306": {
          "model_module": "@jupyter-widgets/base",
          "model_name": "LayoutModel",
          "model_module_version": "1.2.0",
          "state": {
            "_model_module": "@jupyter-widgets/base",
            "_model_module_version": "1.2.0",
            "_model_name": "LayoutModel",
            "_view_count": null,
            "_view_module": "@jupyter-widgets/base",
            "_view_module_version": "1.2.0",
            "_view_name": "LayoutView",
            "align_content": null,
            "align_items": null,
            "align_self": null,
            "border": null,
            "bottom": null,
            "display": null,
            "flex": null,
            "flex_flow": null,
            "grid_area": null,
            "grid_auto_columns": null,
            "grid_auto_flow": null,
            "grid_auto_rows": null,
            "grid_column": null,
            "grid_gap": null,
            "grid_row": null,
            "grid_template_areas": null,
            "grid_template_columns": null,
            "grid_template_rows": null,
            "height": null,
            "justify_content": null,
            "justify_items": null,
            "left": null,
            "margin": null,
            "max_height": null,
            "max_width": null,
            "min_height": null,
            "min_width": null,
            "object_fit": null,
            "object_position": null,
            "order": null,
            "overflow": null,
            "overflow_x": null,
            "overflow_y": null,
            "padding": null,
            "right": null,
            "top": null,
            "visibility": null,
            "width": null
          }
        },
        "fd3e190c468248e4bfdda6e45052be48": {
          "model_module": "@jupyter-widgets/controls",
          "model_name": "DescriptionStyleModel",
          "model_module_version": "1.5.0",
          "state": {
            "_model_module": "@jupyter-widgets/controls",
            "_model_module_version": "1.5.0",
            "_model_name": "DescriptionStyleModel",
            "_view_count": null,
            "_view_module": "@jupyter-widgets/base",
            "_view_module_version": "1.2.0",
            "_view_name": "StyleView",
            "description_width": ""
          }
        },
        "0633211d47624c51bd027d7dc73adc11": {
          "model_module": "@jupyter-widgets/base",
          "model_name": "LayoutModel",
          "model_module_version": "1.2.0",
          "state": {
            "_model_module": "@jupyter-widgets/base",
            "_model_module_version": "1.2.0",
            "_model_name": "LayoutModel",
            "_view_count": null,
            "_view_module": "@jupyter-widgets/base",
            "_view_module_version": "1.2.0",
            "_view_name": "LayoutView",
            "align_content": null,
            "align_items": null,
            "align_self": null,
            "border": null,
            "bottom": null,
            "display": null,
            "flex": null,
            "flex_flow": null,
            "grid_area": null,
            "grid_auto_columns": null,
            "grid_auto_flow": null,
            "grid_auto_rows": null,
            "grid_column": null,
            "grid_gap": null,
            "grid_row": null,
            "grid_template_areas": null,
            "grid_template_columns": null,
            "grid_template_rows": null,
            "height": null,
            "justify_content": null,
            "justify_items": null,
            "left": null,
            "margin": null,
            "max_height": null,
            "max_width": null,
            "min_height": null,
            "min_width": null,
            "object_fit": null,
            "object_position": null,
            "order": null,
            "overflow": null,
            "overflow_x": null,
            "overflow_y": null,
            "padding": null,
            "right": null,
            "top": null,
            "visibility": null,
            "width": null
          }
        },
        "5dec3d3737a94e188222a05b62598326": {
          "model_module": "@jupyter-widgets/controls",
          "model_name": "ProgressStyleModel",
          "model_module_version": "1.5.0",
          "state": {
            "_model_module": "@jupyter-widgets/controls",
            "_model_module_version": "1.5.0",
            "_model_name": "ProgressStyleModel",
            "_view_count": null,
            "_view_module": "@jupyter-widgets/base",
            "_view_module_version": "1.2.0",
            "_view_name": "StyleView",
            "bar_color": null,
            "description_width": ""
          }
        },
        "0207a22ef65d40ffaf598955237d6557": {
          "model_module": "@jupyter-widgets/base",
          "model_name": "LayoutModel",
          "model_module_version": "1.2.0",
          "state": {
            "_model_module": "@jupyter-widgets/base",
            "_model_module_version": "1.2.0",
            "_model_name": "LayoutModel",
            "_view_count": null,
            "_view_module": "@jupyter-widgets/base",
            "_view_module_version": "1.2.0",
            "_view_name": "LayoutView",
            "align_content": null,
            "align_items": null,
            "align_self": null,
            "border": null,
            "bottom": null,
            "display": null,
            "flex": null,
            "flex_flow": null,
            "grid_area": null,
            "grid_auto_columns": null,
            "grid_auto_flow": null,
            "grid_auto_rows": null,
            "grid_column": null,
            "grid_gap": null,
            "grid_row": null,
            "grid_template_areas": null,
            "grid_template_columns": null,
            "grid_template_rows": null,
            "height": null,
            "justify_content": null,
            "justify_items": null,
            "left": null,
            "margin": null,
            "max_height": null,
            "max_width": null,
            "min_height": null,
            "min_width": null,
            "object_fit": null,
            "object_position": null,
            "order": null,
            "overflow": null,
            "overflow_x": null,
            "overflow_y": null,
            "padding": null,
            "right": null,
            "top": null,
            "visibility": null,
            "width": null
          }
        },
        "fe8aa57b89c94fcca4cc4984d2b7e62b": {
          "model_module": "@jupyter-widgets/controls",
          "model_name": "DescriptionStyleModel",
          "model_module_version": "1.5.0",
          "state": {
            "_model_module": "@jupyter-widgets/controls",
            "_model_module_version": "1.5.0",
            "_model_name": "DescriptionStyleModel",
            "_view_count": null,
            "_view_module": "@jupyter-widgets/base",
            "_view_module_version": "1.2.0",
            "_view_name": "StyleView",
            "description_width": ""
          }
        }
      }
    }
  },
  "nbformat": 4,
  "nbformat_minor": 0
}